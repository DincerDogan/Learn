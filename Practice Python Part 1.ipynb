{
 "cells": [
  {
   "cell_type": "markdown",
   "id": "26d2f39e",
   "metadata": {},
   "source": [
    "### Create a program that asks the user to enter their name and their age. Print out a message addressed to them that tells them the year that they will turn 100 years old.\n",
    "\n",
    "Extras:\n",
    "\n",
    "1. Add on to the previous program by asking the user for another number and printing out that many copies of the previous message. (Hint: order of operations exists in Python)\n",
    "2. Print out that many copies of the previous message on separate lines. (Hint: the string \"\\n is the same as pressing the ENTER button)"
   ]
  },
  {
   "cell_type": "code",
   "execution_count": 8,
   "id": "1edafdaa",
   "metadata": {},
   "outputs": [
    {
     "name": "stdout",
     "output_type": "stream",
     "text": [
      "Please enter your name: hakan\n",
      "Please enter your age: 5\n",
      "Your lucky number: 5\n",
      "\n",
      "hakan you will be 100 years old at 2116\n",
      "hakan you will be 100 years old at 2116\n",
      "hakan you will be 100 years old at 2116\n",
      "hakan you will be 100 years old at 2116\n",
      "hakan you will be 100 years old at 2116\n"
     ]
    }
   ],
   "source": [
    "current_year = 2021\n",
    "user_name = input(\"Please enter your name: \")\n",
    "user_age = int(input(\"Please enter your age: \"))\n",
    "give_number = int(input(\"Your lucky number: \"))\n",
    "hundred = (100 - user_age) + current_year\n",
    "print(f\"\\n{user_name} you will be 100 years old at {hundred}\"*give_number)"
   ]
  },
  {
   "cell_type": "markdown",
   "id": "80111ef3",
   "metadata": {},
   "source": [
    "### Ask the user for a number. Depending on whether the number is even or odd, print out an appropriate message to the user. Hint: how does an even / odd number react differently when divided by 2?\n",
    "\n",
    "Extras:\n",
    "\n",
    "1. If the number is a multiple of 4, print out a different message.\n",
    "2. Ask the user for two numbers: one number to check (call it num) and one number to divide by (check). If check divides evenly into num, tell that to the user. If not, print a different appropriate message."
   ]
  },
  {
   "cell_type": "code",
   "execution_count": 32,
   "id": "3b3aba53",
   "metadata": {},
   "outputs": [
    {
     "name": "stdout",
     "output_type": "stream",
     "text": [
      "Give me a number: 1231214154\n",
      "Give me a number to check: 2323\n",
      "1231214154 does not divide evenly with 2323\n"
     ]
    }
   ],
   "source": [
    "num = int(input(\"Give me a number: \"))\n",
    "check = int(input(\"Give me a number to check: \"))\n",
    "# if num % 4 == 0:\n",
    "#     print(\"Divisible by 4\")\n",
    "# elif num % 2 == 0:\n",
    "#     print(\"Even\")\n",
    "# else:\n",
    "#     print(\"Odd\")\n",
    "if num % check == 0:\n",
    "    print(num, \"divides evenly with\", check)\n",
    "else:\n",
    "    print(num,\"does not divide evenly with\", check)"
   ]
  },
  {
   "cell_type": "markdown",
   "id": "ef948747",
   "metadata": {},
   "source": [
    "### Take a list, say for example this one:\n",
    "\n",
    "a = [1, 1, 2, 3, 5, 8, 13, 21, 34, 55, 89]\n",
    "and write a program that prints out all the elements of the list that are less than 5.\n",
    "\n",
    "Extras:\n",
    "\n",
    "1. Instead of printing the elements one by one, make a new list that has all the elements less than 5 from this list in it and print out this new list.\n",
    "2. Write this in one line of Python.\n",
    "3. Ask the user for a number and return a list that contains only elements from the original list a that are smaller than that number given by the user."
   ]
  },
  {
   "cell_type": "code",
   "execution_count": 35,
   "id": "91e497a6",
   "metadata": {},
   "outputs": [
    {
     "name": "stdout",
     "output_type": "stream",
     "text": [
      "Number: 8\n"
     ]
    },
    {
     "data": {
      "text/plain": [
       "[1, 1, 2, 3, 5]"
      ]
     },
     "execution_count": 35,
     "metadata": {},
     "output_type": "execute_result"
    }
   ],
   "source": [
    "a = [1, 1, 2, 3, 5, 8, 13, 21, 34, 55, 89]\n",
    "# [num for num in a if num < 5]\n",
    "user = int(input(\"Number: \"))\n",
    "[num for num in a if num < user]"
   ]
  },
  {
   "cell_type": "markdown",
   "id": "0f1f83cd",
   "metadata": {},
   "source": [
    "### Create a program that asks the user for a number and then prints out a list of all the divisors of that number. \n",
    "(If you don’t know what a divisor is, it is a number that divides evenly into another number. For example, 13 is a divisor of 26 because 26 / 13 has no remainder.)"
   ]
  },
  {
   "cell_type": "code",
   "execution_count": 48,
   "id": "42e905a4",
   "metadata": {},
   "outputs": [
    {
     "name": "stdout",
     "output_type": "stream",
     "text": [
      "Give me a number: 55\n",
      "[1, 5, 11, 55]\n"
     ]
    }
   ],
   "source": [
    "number = int(input(\"Give me a number: \"))\n",
    "divisible = []\n",
    "for num in range(1,num+1):\n",
    "    if number % num == 0:\n",
    "        divisible.append(num)\n",
    "    else:\n",
    "        continue\n",
    "print(divisible)"
   ]
  },
  {
   "cell_type": "markdown",
   "id": "ebec6fa7",
   "metadata": {},
   "source": [
    "### Take two lists, say for example these two:\n",
    "\n",
    "a = [1, 1, 2, 3, 5, 8, 13, 21, 34, 55, 89]                                  \n",
    "b = [1, 2, 3, 4, 5, 6, 7, 8, 9, 10, 11, 12, 13]\n",
    "\n",
    "and write a program that returns a list that contains only the elements that are common between the lists (without duplicates). Make sure your program works on two lists of different sizes.\n",
    "\n",
    "Extras:\n",
    "\n",
    "1. Randomly generate two lists to test this\n",
    "2. Write this in one line of Python (don’t worry if you can’t figure this out at this point - we’ll get to it soon)"
   ]
  },
  {
   "cell_type": "code",
   "execution_count": 104,
   "id": "ba163cdb",
   "metadata": {},
   "outputs": [
    {
     "name": "stdout",
     "output_type": "stream",
     "text": [
      "[1, 2, 3, 5, 8, 13]\n"
     ]
    }
   ],
   "source": [
    "import random \n",
    "a = [1, 1, 2, 3, 5, 8, 13, 21, 34, 55, 89]\n",
    "b = [1, 2, 3, 4, 5, 6, 7, 8, 9, 10, 11, 12, 13]\n",
    "c = [random.randint(1,100) for num in range(1,15)]\n",
    "d = [random.randint(1,100) for num in range(1,15)]\n",
    "# dups = []\n",
    "# for num in set(c):\n",
    "#     for nm in set(d):\n",
    "#         if num == nm:\n",
    "#             dups.append(num)\n",
    "            \n",
    "# print(dups)\n",
    "dups = [num for num in set(a) for nm in set(b) if num == nm]\n",
    "print(dups)"
   ]
  },
  {
   "cell_type": "markdown",
   "id": "8ba5b650",
   "metadata": {},
   "source": [
    "### Ask the user for a string and print out whether this string is a palindrome or not. \n",
    "(A palindrome is a string that reads the same forwards and backwards.)"
   ]
  },
  {
   "cell_type": "code",
   "execution_count": 113,
   "id": "682bee7a",
   "metadata": {},
   "outputs": [
    {
     "name": "stdout",
     "output_type": "stream",
     "text": [
      "Give me a word: madam madam madam\n",
      "Palindrome\n"
     ]
    }
   ],
   "source": [
    "word = input(\"Give me a word: \")\n",
    "\n",
    "if word.lower().replace(\" \", \"\") == word[::-1].lower().replace(\" \", \"\"):\n",
    "    print(\"Palindrome\")\n",
    "else:\n",
    "    print(\"Not palindrome\")"
   ]
  },
  {
   "cell_type": "markdown",
   "id": "5464f7f4",
   "metadata": {},
   "source": [
    "### 7.Let’s say I give you a list saved in a variable: \n",
    "a = [1, 4, 9, 16, 25, 36, 49, 64, 81, 100]. \n",
    "\n",
    "Write one line of Python that takes this list a and makes a new list that has only the even elements of this list in it."
   ]
  },
  {
   "cell_type": "code",
   "execution_count": 128,
   "id": "74df7667",
   "metadata": {
    "scrolled": true
   },
   "outputs": [
    {
     "name": "stdout",
     "output_type": "stream",
     "text": [
      "[4, 16, 36, 64, 100]\n"
     ]
    }
   ],
   "source": [
    "a = [1, 4, 9, 16, 25, 36, 49, 64, 81, 100]\n",
    "b = [num for num in a if num % 2 == 0]\n",
    "print(b)"
   ]
  },
  {
   "cell_type": "markdown",
   "id": "55f72935",
   "metadata": {},
   "source": [
    "### Make a two-player Rock-Paper-Scissors game. \n",
    "(Hint: Ask for player plays (using input), compare them, print out a message of congratulations to the winner, and ask if the players want to start a new game)\n",
    "\n",
    "##### Remember the rules:\n",
    "\n",
    "Rock beats scissors\n",
    "\n",
    "Scissors beats paper\n",
    "\n",
    "Paper beats rock"
   ]
  },
  {
   "cell_type": "code",
   "execution_count": 1,
   "id": "03a8535b",
   "metadata": {},
   "outputs": [
    {
     "name": "stdout",
     "output_type": "stream",
     "text": [
      "p1, rock, paper or scissors?rock\n",
      "p2, Rock, paper or scissors?asd\n",
      "choose correct\n",
      "wanna play again? y/ny\n",
      "p1, rock, paper or scissors?rock\n",
      "p2, Rock, paper or scissors?rock\n",
      "tie\n",
      "wanna play again? y/nn\n"
     ]
    }
   ],
   "source": [
    "player1= \"\"\n",
    "player2= \"\"\n",
    "playing = True\n",
    "while playing:\n",
    "    player1 = input(\"p1, rock, paper or scissors?\").lower()\n",
    "    player2 = input(\"p2, Rock, paper or scissors?\").lower()\n",
    "\n",
    "    if player1[0] == player2[0]:\n",
    "        print(\"tie\")\n",
    "    elif player1[0] == \"r\" and player2[0] == \"p\":\n",
    "        print(\"p2 won\")\n",
    "    elif player1[0] == \"p\" and player2[0] == \"s\":\n",
    "        print(\"p2 won\")\n",
    "    elif player1[0] == \"s\" and player2[0] == \"r\":\n",
    "        print(\"p2 won\")\n",
    "    elif player2[0] == \"r\" and player1[0] == \"p\":\n",
    "        print(\"p2 won\")\n",
    "    elif player2[0] == \"p\" and player1[0] == \"s\":\n",
    "        print(\"p2 won\")\n",
    "    elif player2[0] == \"s\" and player1[0] == \"r\":\n",
    "        print(\"p2 won\")\n",
    "    else:\n",
    "        print(\"choose correct\")\n",
    "        player1 = \"\"\n",
    "        player2 = \"\"\n",
    "    \n",
    "\n",
    "    replay = input(\"wanna play again? y/n\")\n",
    "    if replay[0] == \"y\":\n",
    "        player1= \"\"\n",
    "        player2= \"\"\n",
    "        playing = True\n",
    "    else:\n",
    "        playing = False    "
   ]
  },
  {
   "cell_type": "markdown",
   "id": "2c0f8826",
   "metadata": {},
   "source": [
    "### Generate a random number between 1 and 9 (including 1 and 9). \n",
    "Ask the user to guess the number, then tell them whether they guessed too low, too high, or exactly right. \n",
    "(Hint: remember to use the user input lessons from the very first exercise)"
   ]
  },
  {
   "cell_type": "code",
   "execution_count": 4,
   "id": "4a3a8311",
   "metadata": {},
   "outputs": [
    {
     "name": "stdout",
     "output_type": "stream",
     "text": [
      "number: 1-10 5\n",
      "too low\n",
      "number: 1-10 8\n",
      "too low\n",
      "number: 1-10 9\n",
      "too low\n",
      "number: 1-10 10\n",
      "i picked 10\n",
      "right guess\n"
     ]
    }
   ],
   "source": [
    "import random\n",
    "\n",
    "num = random.randint(1,10)\n",
    "ask = \"\"\n",
    "while ask != num or (ask < 1 or ask > 10):\n",
    "    ask = int(input(\"number: 1-10 \"))\n",
    "    \n",
    "    if num > ask:\n",
    "        print(\"too low\")\n",
    "    elif num < ask:\n",
    "        print(\"too high\")\n",
    "    else:\n",
    "        print(f\"i picked {num}\")\n",
    "        print(\"right guess\")"
   ]
  },
  {
   "cell_type": "markdown",
   "id": "f1947351",
   "metadata": {},
   "source": [
    "### This week’s exercise is going to be revisiting an old exercise (see Exercise 5), except require the solution in a different way.\n",
    "\n",
    "Take two lists, say for example these two:\n",
    "\n",
    "a = [1, 1, 2, 3, 5, 8, 13, 21, 34, 55, 89]\n",
    "\n",
    "b = [1, 2, 3, 4, 5, 6, 7, 8, 9, 10, 11, 12, 13]\n",
    "\n",
    "and write a program that returns a list that contains only the elements that are common between the lists (without duplicates). Make sure your program works on two lists of different sizes. Write this in one line of Python using at least one list comprehension. (Hint: Remember list comprehensions from Exercise 7)."
   ]
  },
  {
   "cell_type": "code",
   "execution_count": 7,
   "id": "6498d417",
   "metadata": {},
   "outputs": [
    {
     "name": "stdout",
     "output_type": "stream",
     "text": [
      "[1, 2, 3, 5, 8, 13]\n"
     ]
    }
   ],
   "source": [
    "a = [1, 1, 2, 3, 5, 8, 13, 21, 34, 55, 89]\n",
    "b = [1, 2, 3, 4, 5, 6, 7, 8, 9, 10, 11, 12, 13]\n",
    "\n",
    "dups = [i for i in set(a) if i in set(b)]\n",
    "print(dups)"
   ]
  }
 ],
 "metadata": {
  "kernelspec": {
   "display_name": "Python 3",
   "language": "python",
   "name": "python3"
  },
  "language_info": {
   "codemirror_mode": {
    "name": "ipython",
    "version": 3
   },
   "file_extension": ".py",
   "mimetype": "text/x-python",
   "name": "python",
   "nbconvert_exporter": "python",
   "pygments_lexer": "ipython3",
   "version": "3.8.11"
  }
 },
 "nbformat": 4,
 "nbformat_minor": 5
}
