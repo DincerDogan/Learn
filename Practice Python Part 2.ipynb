{
 "cells": [
  {
   "cell_type": "markdown",
   "id": "c4f8d106",
   "metadata": {},
   "source": [
    "### Ask the user for a number and determine whether the number is prime or not. \n",
    "(For those who have forgotten, a prime number is a number that has no divisors.). You can (and should!) use your answer to Exercise 4 to help you. Take this opportunity to practice using functions, described below."
   ]
  },
  {
   "cell_type": "code",
   "execution_count": 26,
   "id": "7bbd858a",
   "metadata": {},
   "outputs": [
    {
     "name": "stdout",
     "output_type": "stream",
     "text": [
      "number: 33\n",
      "not prime\n"
     ]
    }
   ],
   "source": [
    "num = int(input(\"number: \"))\n",
    "a = [i for i in range(2,num) if num % i == 0]\n",
    "\n",
    "def prime(num):\n",
    "    if num > 1:\n",
    "        if len(a) == 0:\n",
    "            print(\"prime\")\n",
    "        else:\n",
    "            print(\"not prime\")\n",
    "    else:\n",
    "        print(\"not prime\")\n",
    "\n",
    "prime(num)"
   ]
  },
  {
   "cell_type": "markdown",
   "id": "60f4d0ab",
   "metadata": {},
   "source": [
    "### Write a program that takes a list of numbers (for example, a = [5, 10, 15, 20, 25]) and makes a new list of only the first and last elements of the given list. \n",
    "For practice, write this code inside a function."
   ]
  },
  {
   "cell_type": "code",
   "execution_count": 31,
   "id": "12de1d32",
   "metadata": {},
   "outputs": [
    {
     "name": "stdout",
     "output_type": "stream",
     "text": [
      "[42, 30, 9, 10, 6, 8, 11, 20, 41]\n"
     ]
    }
   ],
   "source": [
    "import random\n",
    "a = [5, 10, 15, 20, 25, 55, 1, 2, 3, 4]\n",
    "b = [random.randint(1,50) for num in range(1,10)]\n",
    "print(b)\n",
    "\n",
    "def first_last(arr):\n",
    "#   new_list = []\n",
    "#   new_list.append(arr[0])\n",
    "#   new_list.append(arr[len(arr)-1])\n",
    "#   return new_list\n",
    "    return [arr[0], arr[len(arr)-1]]"
   ]
  },
  {
   "cell_type": "code",
   "execution_count": 32,
   "id": "a3cf6953",
   "metadata": {},
   "outputs": [
    {
     "data": {
      "text/plain": [
       "[42, 41]"
      ]
     },
     "execution_count": 32,
     "metadata": {},
     "output_type": "execute_result"
    }
   ],
   "source": [
    "first_last(b)"
   ]
  },
  {
   "cell_type": "markdown",
   "id": "27836370",
   "metadata": {},
   "source": [
    "### Write a program that asks the user how many Fibonnaci numbers to generate and then generates them.\n",
    "Take this opportunity to think about how you can use functions. Make sure to ask the user to enter the number of numbers in the sequence to generate.\n"
   ]
  },
  {
   "cell_type": "code",
   "execution_count": 4,
   "id": "4a7c6c71",
   "metadata": {},
   "outputs": [],
   "source": [
    "def gen_fib():\n",
    "#     count = int(input(\"How many fibonacci you want to generate: \"))\n",
    "#     i = 1\n",
    "#     if count == 0:\n",
    "#         fib = []\n",
    "#     elif count == 1:\n",
    "#         fib = [1]\n",
    "#     elif count == 2:\n",
    "#         fib = [1, 1]\n",
    "#     elif count > 2:\n",
    "#         fib = [1, 1]\n",
    "#         while i < (count-1):\n",
    "#             fib.append(fib[i] + fib[i-1])\n",
    "#             i += 1\n",
    "#     return fib \n",
    "    a=int(input('Please input number: '))\n",
    "    if a==1:\n",
    "        b=[1]\n",
    "    elif a!=1:\n",
    "        b=[1,1]\n",
    "        for i in b:\n",
    "            if len(b)<a:\n",
    "                i=b[-1]+b[-2] \n",
    "                b.append(i)\n",
    "            else:\n",
    "                break\n",
    "    print(b)"
   ]
  },
  {
   "cell_type": "code",
   "execution_count": 5,
   "id": "0b13f507",
   "metadata": {},
   "outputs": [
    {
     "name": "stdout",
     "output_type": "stream",
     "text": [
      "Please input number: 5\n",
      "[1, 1, 2, 3, 5]\n"
     ]
    }
   ],
   "source": [
    "gen_fib()"
   ]
  },
  {
   "cell_type": "markdown",
   "id": "9c4d4b5a",
   "metadata": {},
   "source": [
    "### Write a program (function!) that takes a list and returns a new list that contains all the elements of the first list minus all the duplicates.\n",
    "Extras:\n",
    "\n",
    "1.Write two different functions to do this - one using a loop and constructing a list, and another using sets.\n",
    "\n",
    "2.Go back and do Exercise 5 using sets, and write the solution for that in a different function."
   ]
  },
  {
   "cell_type": "code",
   "execution_count": 70,
   "id": "257be03d",
   "metadata": {},
   "outputs": [],
   "source": [
    "def no_dups(arr):\n",
    "    return list(set(arr))"
   ]
  },
  {
   "cell_type": "code",
   "execution_count": 74,
   "id": "2c6ed157",
   "metadata": {},
   "outputs": [
    {
     "name": "stdout",
     "output_type": "stream",
     "text": [
      "[8, 10, 3, 8, 3, 4, 8, 7, 2, 1, 5, 10, 8, 2]\n"
     ]
    },
    {
     "data": {
      "text/plain": [
       "[1, 2, 3, 4, 5, 7, 8, 10]"
      ]
     },
     "execution_count": 74,
     "metadata": {},
     "output_type": "execute_result"
    }
   ],
   "source": [
    "import random \n",
    "\n",
    "a = [random.randint(1,10) for num in range(1,15)]\n",
    "print(a)\n",
    "no_dups(a)"
   ]
  },
  {
   "cell_type": "markdown",
   "id": "d252a954",
   "metadata": {},
   "source": [
    "### Write a program (using functions!) that asks the user for a long string containing multiple words.\n",
    "Print back to the user the same string, except with the words in backwards order. \n",
    "For example, say I type the string:\n",
    "\n",
    "##### My name is Michele\n",
    "  \n",
    "Then I would see the string:\n",
    "##### Michele is name My\n",
    "  \n",
    "shown back to me.\n"
   ]
  },
  {
   "cell_type": "code",
   "execution_count": 28,
   "id": "3cb3310f",
   "metadata": {},
   "outputs": [],
   "source": [
    "def reverse_me():\n",
    "    words = input(\"Give me some words:\")\n",
    "    a = words.split()\n",
    "    return \" \".join(a[::-1])"
   ]
  },
  {
   "cell_type": "code",
   "execution_count": 27,
   "id": "cbd958a5",
   "metadata": {},
   "outputs": [
    {
     "name": "stdout",
     "output_type": "stream",
     "text": [
      "Give me some words:Michele is name My\n"
     ]
    },
    {
     "data": {
      "text/plain": [
       "'My name is Michele'"
      ]
     },
     "execution_count": 27,
     "metadata": {},
     "output_type": "execute_result"
    }
   ],
   "source": [
    "reverse_me()"
   ]
  },
  {
   "cell_type": "markdown",
   "id": "a3b0b621",
   "metadata": {},
   "source": [
    "### Write a password generator in Python.\n",
    "\n",
    "Be creative with how you generate passwords - strong passwords have a mix of lowercase letters, uppercase letters, numbers, and symbols. The passwords should be random, generating a new password every time the user asks for a new password. Include your run-time code in a main method.\n",
    "\n",
    "Extra:\n",
    "\n",
    "1. Ask the user how strong they want their password to be. For weak passwords, pick a word or two from a list."
   ]
  },
  {
   "cell_type": "code",
   "execution_count": 2,
   "id": "9a832e76",
   "metadata": {},
   "outputs": [
    {
     "name": "stdout",
     "output_type": "stream",
     "text": [
      "Weak or strong: w/s s\n",
      "HVYPq7E%GFne\n"
     ]
    }
   ],
   "source": [
    "import random\n",
    "from IPython.display import clear_output\n",
    "\n",
    "s = \"abcdefghijklmnopqrstuvwxyz01234567890ABCDEFGHIJKLMNOPQRSTUVWXYZ!@#$%^&*()?\"\n",
    "words = [\"tense\", \"icky\", \"swift\", \"quick\", \"small\", \"tail\", \"vulgar\", \"straight\", \"airport\", \"interrupt\", \"ready\", \"love\"]\n",
    "passlen = 12\n",
    "\n",
    "while True:\n",
    "    clear_output()\n",
    "    strong = input(\"Weak or strong: w/s \")\n",
    "    \n",
    "    if strong[0] == \"w\":\n",
    "        random_word = words[random.randint(0,11)]\n",
    "        random_word2 = words[random.randint(0,11)]\n",
    "        password = random_word + random_word2\n",
    "        break\n",
    "    elif strong[0] == \"s\":\n",
    "        password = \"\".join(random.sample(s, passlen))\n",
    "        break\n",
    "    else:\n",
    "        continue\n",
    "print(password)"
   ]
  },
  {
   "cell_type": "markdown",
   "id": "dd5fd801",
   "metadata": {},
   "source": [
    "### Use the BeautifulSoup and requests Python packages to print out a list of all the article titles on the New York Times homepage."
   ]
  },
  {
   "cell_type": "code",
   "execution_count": 12,
   "id": "1b0a9526",
   "metadata": {},
   "outputs": [
    {
     "name": "stdout",
     "output_type": "stream",
     "text": [
      "\n",
      "G7 Leaders to Meet as Afghanistan Withdrawal Deadline Nears\n",
      "\n",
      "Kathy Hochul Is Sworn In as New York’s First Female Governor\n",
      "\n",
      "Many Older Americans Aren’t Vaccinated, Making the Delta Wave Deadlier\n",
      "\n",
      "Rescuers in Tennessee Search for Missing After Deadly Flash Floods\n",
      "\n",
      "Biden Faces a Trade-Off: Stop Corruption, or Migration?\n",
      "\n",
      "Is New York’s Wave of Gun Violence Receding? Experts Have Hope.\n",
      "\n",
      "How to Buy Glasses Online\n"
     ]
    }
   ],
   "source": [
    "import requests\n",
    "from bs4 import BeautifulSoup\n",
    "\n",
    "url = \"https://www.nytimes.com/\"\n",
    "r = requests.get(url)\n",
    "r_html = r.text\n",
    "\n",
    "titles = []\n",
    "\n",
    "soup = BeautifulSoup(r_html, features=\"html.parser\")\n",
    "for h2 in soup.find_all(\"h3\",\"css-xxaj7r e1lsht870\"): \n",
    "    titles.append(h2.text)\n",
    "\n",
    "for title in titles:\n",
    "    print(\"\\n\" + title)"
   ]
  },
  {
   "cell_type": "markdown",
   "id": "c9715c02",
   "metadata": {},
   "source": [
    "### Using the requests and BeautifulSoup Python libraries, print to the screen the full text of the article on this website:\n",
    "http://www.vanityfair.com/society/2014/06/monica-lewinsky-humiliation-culture.\n",
    "\n",
    "The article is long, so it is split up between 4 pages. Your task is to print out the text to the screen so that you can read the full article without having to click any buttons.This will just print the full text of the article to the screen. It will not make it easy to read, so next exercise we will learn how to write this text to a .txt file."
   ]
  },
  {
   "cell_type": "code",
   "execution_count": 13,
   "id": "c3a87873",
   "metadata": {},
   "outputs": [
    {
     "name": "stdout",
     "output_type": "stream",
     "text": [
      "\n",
      "‘How does it feel to be America’s premier blow-job queen?”\n",
      "\n",
      "In 1998, when news of my affair with Bill Clinton broke, I was arguably the most humiliated person in the world. Thanks to the Drudge Report, I was also possibly the first person whose global humiliation was driven by the Internet.\n",
      "\n",
      "Despite a decade of self-imposed silence, I have been periodically resuscitated as part of the national conversation, almost always in connection with the Clintons. For instance, in January and February of this year, Rand Paul, the Kentucky senator and a possible 2016 Republican presidential aspirant, managed to drag me into the pre-election muck. He fought back against the Democrats’ charges of a G.O.P. “war on women” by arguing that Bill Clinton had committed workplace “violence” and acted in a “predatory” manner against “a 20-year-old girl who was there from college.”\n",
      "\n",
      "In February of this year, around the same time Senator Paul put me back into the unwanted spotlight, I became the “narcissistic loony toon,” the latest twist on Me as Archetype.\n",
      "\n",
      "These 16-year-old descriptions of me triggered memories of past anguish, particularly in the area of women lobbing derision at one another. So where, you might be wondering, were the feminists back then?\n",
      "\n",
      "I , myself, deeply regret what happened between me and President Clinton. Let me say it again: I. Myself. Deeply. Regret. What. Happened. At the time—at least from my point of view—it was an authentic connection, with emotional intimacy, frequent visits, plans made, phone calls and gifts exchanged. In my early 20s, I was too young to understand the real-life consequences, and too young to see that I would be sacrificed for political expediency. I look back now, shake my head in disbelief, and wonder: what was I—what were we—thinking? I would give anything to go back and rewind the tape.\n",
      "\n",
      "Like many other Americans, I’ve been thinking about Hillary Clinton. What might happen, I’ve wondered, if she does run in 2016? And what if she wins—and then wins a second term?\n",
      "\n",
      "So far, That Woman has never been able to escape the shadow of that first depiction. I was the Unstable Stalker (a phrase disseminated by the Clinton White House), the Dimwit Floozy, the Poor Innocent who didn’t know any better. The Clinton administration, the special prosecutor’s minions, the political operatives on both sides of the aisle, and the media were able to brand me. And that brand stuck, in part because it was imbued with power. I became a social representation, a social canvas on which anybody could project their confusion about women, sex, infidelity, politics, and body issues.\n",
      "\n",
      "Hundreds of people in the audience, mostly students, were staring at me, many with their mouths agape, wondering if I would dare to answer this question.\n",
      "\n",
      "The main reason I had agreed to participate in the program was not to rehash or revise the story line of Interngate but to try to shift the focus to meaningful issues. Many troubling political and judicial questions had been brought to light by the investigation and impeachment of President Bill Clinton. But the most egregious had been generally ignored. People seemed indifferent to the deeper matters at hand, such as the erosion of private life in the public sphere, the balance of power and gender inequality in politics and media, and the erosion of legal protections to ensure that neither a parent nor a child should ever have to testify against each other.\n",
      "\n",
      "How naïve I was.\n",
      "\n",
      "There were gasps and sputters from the audience. Numerous blurred, faceless people called out, “Don’t answer it!”\n",
      "\n",
      "“It’s hurtful and it’s insulting,” I said, attempting to gather my wits. “And as insulting as it is to me, it’s even more insulting to my family. I don’t actually know why this whole story became about oral sex. I don’t. It was a mutual relationship.… The fact that it did is maybe a result of a male-dominated society.”\n",
      "\n",
      "The audience laughed. Maybe they were surprised to hear these words coming from me.\n",
      "\n",
      "I looked straight at the smirking guy who had asked the question. “You might be better poised to answer that.” After a pause, I added, “That’s probably cost me another year of therapy.”\n",
      "\n",
      "You could argue that in agreeing to participate in an HBO documentary called Monica in Black and White I had signed up to be shamed and publicly humiliated yet again. You might even think I would have been inured to humiliation. This encounter at Cooper Union, after all, paled in comparison with the 445-page Starr Report, which was the culmination of independent counsel Kenneth Starr’s four-year investigation of the Clinton White House. It included chapter and verse about my intimate sexual activities, along with transcripts of audiotapes that chronicled many of my private conversations. But the “B.J. Queen” question—which was included in the show when it aired on HBO in 2002—sat with me for a long time after the audience left and the taping wrapped.\n",
      "\n",
      "True, this wasn’t the first time I’d been stigmatized for my affair with Bill Clinton. But never had I been so directly confronted, one-on-one, with such a crass characterization. One of the unintended consequences of my agreeing to put myself out there and to try to tell the truth had been that shame would once again be hung around my neck like a scarlet-A albatross. Believe me, once it’s on, it is a bitch to take off.\n",
      "\n",
      "Had that awkward moment at Cooper Union aired only a few years later, with the advent of social media, the humiliation would have been even more devastating. That clip would have gone viral on Twitter, YouTube, Facebook, TMZ, Gawker. It would have become a meme of its own on Tumblr. The viralness itself would have merited mention on the Daily Beast and Huffington Post. As it was, it was viral enough, and, thanks to the all-encompassing nature of the Web, you can, 12 years later, watch it all day long on YouTube if you want to (but I really hope you have better things to do with your time).\n",
      "\n",
      "I know I’m not alone when it comes to public humiliation. No one, it seems, can escape the unforgiving gaze of the Internet, where gossip, half-truths, and lies take root and fester. We have created, to borrow a term from historian Nicolaus Mills, a “culture of humiliation” that not only encourages and revels in Schadenfreude but also rewards those who humiliate others, from the ranks of the paparazzi to the gossip bloggers, the late-night comedians, and the Web “entrepreneurs” who profit from clandestine videos.\n",
      "\n",
      "Yes, we’re all connected now. We can tweet a revolution in the streets or chronicle achievements large and small. But we’re also caught in a feedback loop of defame and shame, one in which we have become both perps and victims. We may not have become a crueler society—although it sure feels as if we have—but the Internet has seismically shifted the tone of our interactions. The ease, the speed, and the distance that our electronic devices afford us can also make us colder, more glib, and less concerned about the consequences of our pranks and prejudice. Having lived humiliation in the most intimate possible way, I marvel at how willingly we have all signed on to this new way of being.\n",
      "\n",
      "In my own case, each easy click of that YouTube link reinforces the archetype, despite my efforts to parry it away: Me, America’s B.J. Queen. That Intern. That Vixen. Or, in the inescapable phrase of our 42nd president, “That Woman.”\n",
      "\n",
      "It may surprise you to learn that I’m actually a person.\n",
      "\n",
      "In 1998, when news of my affair with Bill Clinton broke, I was arguably the most humiliated person in the world. Thanks to the Drudge Report, I was also possibly the first person whose global humiliation was driven by the Internet.\n",
      "\n",
      "For several years I tried my hand in the fashion-accessory business and became involved in various media projects, including the HBO documentary. Then I lay low for the most part. (The last major interview I granted was 10 years ago.) After all, not lying low had exposed me to criticism for trying to “capitalize” on my “notoriety.” Apparently, others talking about me is O.K.; me speaking out for myself is not. I turned down offers that would have earned me more than $10 million, because they didn’t feel like the right thing to do. Over time, the media circus quieted down, but it never quite moved on, even as I attempted to move on.\n",
      "\n",
      "Meanwhile, I watched my friends’ lives move forward. Marriages. Kids. Degrees. (Second marriages. More kids. More degrees.) I decided to turn over a new leaf and attend grad school.\n",
      "\n",
      "I moved to England to study, to challenge myself, to escape scrutiny, and to reimagine my identity. My professors and fellow students at the London School of Economics were wonderful—welcoming and respectful. I had more anonymity in London, perhaps due to the fact that I spent most of my waking hours in class or buried in the library. In 2006, I graduated with a master’s in social psychology. My master’s thesis examined social bias in the courtroom and was titled “In Search of the Impartial Juror: An Exploration of Pretrial Publicity and the Third Person Effect.” I liked to joke that I was trading the blue dress for blue stockings, and the degree provided new scaffolding to hang my life experiences on. It would also prove, so I hoped, to be a gateway to a more normal life.\n",
      "\n",
      "I moved between London, Los Angeles, New York, and Portland, Oregon, interviewing for a variety of jobs that fell under the umbrella of “creative communication” and “branding,” with an emphasis on charity campaigns. Yet, because of what potential employers so tactfully referred to as my “history,” I was never “quite right” for the position. In some cases, I was right for all the wrong reasons, as in “Of course, your job would require you to attend our events.” And, of course, these would be events at which press would be in attendance.\n",
      "\n",
      "In one promising job interview that took place during the run-up to the 2008 primary season, the conversation took an interesting turn. “So here’s the thing, Monica,” the interviewer said. “You’re clearly a bright young woman and affable, but for us—and probably any other organization that relies on grants and other government funding—it’s risky. We would first need a Letter of Indemnification from the Clintons. After all, there is a 25 percent chance that Mrs. Clinton will be the next president.” I gave a fake smile and said, “I understand.”\n",
      "\n",
      "Another job interview, this one typical: walked into the stark, terminally cool reception area of a hip-yet-prestigious advertising agency in Los Angeles, my hometown. As always, I put on my best “I’m friendly, not a diva” smile. “Hi. Monica Lewinsky here to see So-and-So.”\n",
      "\n",
      "The twentysomething receptionist pushed her black-rimmed hipster frames up her nose. “Monica who?”\n",
      "\n",
      "Before I could answer, another twentysomething, in skinny jeans, plaid shirt, and bow tie, rushed over and interrupted: “ Ms. Lewinsky.” Like a maître d’, he continued, “Pleasure to have you here. I’ll let So-and-So know you’ve arrived. Soy latte? Green tea? Filtered water?”\n",
      "\n",
      "I found myself sitting at a small round table, face-to-face with So-and-So, the agency’s head of strategy and planning. We talked. She kept wincing. This was not going well. I tried to keep myself from getting flustered. Now she was not only wincing but also clearing her throat. Was that perspiration on her brow? It hit me: she was nervous, in full-tic mode.\n",
      "\n",
      "I’ve had to become adept at handling any number of reactions in social situations and job interviews. I get it: it must be disconcerting to sit across from “That Woman.” Needless to say, I didn’t get the position.\n",
      "\n",
      "I eventually came to realize that traditional employment might not be an option for me. I’ve managed to get by (barely, at times) with my own projects, usually with start-ups that I have participated in, or with loans from friends and family.\n",
      "\n",
      "In another job interview I was asked, “If you were a brand, which brand would you be?” Let me tell you, when you’re Monica Lewinsky, that is one loaded question.\n",
      "\n",
      "In September of 2010, the culmination of these experiences began to snap into a broader context for me. A phone conversation with my mother shifted the lens through which I viewed my world. We were discussing the tragic death of Tyler Clementi. Tyler, you will recall, was an 18-year-old Rutgers freshman who was secretly streamed via Webcam kissing another man. Days later, after being derided and humiliated on social media, he committed suicide by jumping off the George Washington Bridge.\n",
      "\n",
      "My mom wept. Sobbing, she kept repeating over and over, “How his parents must feel … his poor parents.”\n",
      "\n",
      "It was an unbearably tragic event, and while hearing of it brought me to tears, too, I couldn’t quite grasp why my mom was so distraught. And then it dawned on me: she was reliving 1998, when she wouldn’t let me out of her sight. She was replaying those weeks when she stayed by my bed, night after night, because I, too, was suicidal. The shame, the scorn, and the fear that had been thrown at her daughter left her afraid that I would take my own life—a fear that I would be literally humiliated to death. (I have never actually attempted suicide, but I had strong suicidal temptations several times during the investigations and during one or two periods after.)\n",
      "\n",
      "I would never be so presumptuous as to equate my own story with Tyler Clementi’s. After all, my public humiliation had been the result of my involvement with a world-renowned public figure—that is, a consequence of my own poor choices. But in that moment, when I felt the depths of my mother’s anguish, I wished I could have had a chance to have spoken to Tyler about how my love life, my sex life, my most private moments, my most sensitive secrets, had been broadcast around the globe. I wished I had been able to say to him that I knew a little of how it might have felt for him to be exposed before the world. And, as hard as it is to imagine surviving it, it is possible.\n",
      "\n",
      "In the wake of Tyler’s tragedy, my own suffering took on a different meaning. Perhaps by sharing my story, I reasoned, I might be able to help others in their darkest moments of humiliation. The question became: How do I find and give a purpose to my past? It was my Prufrockian moment: “Do I dare / Disturb the universe?” Or, in my case, the Clinton universe.\n",
      "\n",
      "Despite a decade of self-imposed silence, I have been periodically resuscitated as part of the national conversation, almost always in connection with the Clintons. For instance, in January and February of this year, Rand Paul, the Kentucky senator and a possible 2016 Republican presidential aspirant, managed to drag me into the pre-election muck. He fought back against the Democrats’ charges of a G.O.P. “war on women” by arguing that Bill Clinton had committed workplace “violence” and acted in a “predatory” manner against “a 20-year-old girl who was there from college.”\n",
      "\n",
      "Sure, my boss took advantage of me, but I will always remain firm on this point: it was a consensual relationship. Any “abuse” came in the aftermath, when I was made a scapegoat in order to protect his powerful position.\n",
      "\n",
      "So, trying to disappear has not kept me out of the fray. I am, for better or for worse, presumed to be a known quantity. Every day I am recognized. Every day. Sometimes a person will walk past me again and again, as if I wouldn’t notice. (Thankfully, 99.9 percent of the time when strangers do say something to me they are supportive and respectful.) Every day someone mentions me in a tweet or a blog post, and not altogether kindly. Every day, it seems, my name shows up in an op-ed column or a press clip or two—mentioned in passing in articles on subjects as disparate as millennials, Scandal, and French president François Hollande’s love life. Miley Cyrus references me in her twerking stage act, Eminem raps about me, and Beyoncé’s latest hit gives me a shout-out. Thanks, Beyoncé, but if we’re verbing, I think you meant “Bill Clinton’d all on my gown,” not “Monica Lewinsky’d.”\n",
      "\n",
      "With every man I date (yes, I date!), I go through some degree of 1998 whiplash. I need to be extremely circumspect about what it means to be “public” with someone. In the early years post-impeachment, I once left a front-row seat along the third-base line at a Yankees game when I learned that my date—a guy whose company I thoroughly enjoyed—was actually in another relationship. It was only a green-card marriage, but I freaked that we could be photographed together and someone might call the gossip rags. I’ve become adept at figuring out when men are interested in me for the wrong reason. Thankfully, those have been few and far between. But every man that has been special to me over the past 16 years has helped me find another piece of myself—the self that was shattered in 1998. And so, no matter the heartbreak, tears, or disenchantment, I’ll always be grateful to them.\n",
      "\n",
      "In February of this year, around the same time Senator Paul put me back into the unwanted spotlight, I became the “narcissistic loony toon,” the latest twist on Me as Archetype.\n",
      "\n",
      "A snapshot of a scenario I’ve grown all too accustomed to, even as I attempt to move on with my life: A shrill ring interrupts the rhythms of my day. The call—from the doorman of the apartment building where I’m staying in New York—leads me to an exasperated “What? Again?” They’ve reappeared: the paparazzi, like swallows, have returned to the sidewalk outside, pacing and circling and pacing some more.\n",
      "\n",
      "I hit the computer. Time for a little self-Google. (Oh, dear reader, please do not judge.) My heart sinks. There’s an explosion on Google News. I know what this means. Whatever day I’ve planned has been jettisoned. To leave the house—and risk a photo—only ensures that the story will stay alive.\n",
      "\n",
      "The cameras have returned because of the headlines: a conservative Web site has gone poking around the University of Arkansas archive of one of Hillary Clinton’s closest friends and admirers, Diane Blair, and has unearthed a cache of memos from the 1990s. In some of them, Blair, who died in 2000, quotes the former First Lady about her husband’s relationship with me. Though Hillary, according to Blair’s notes, claimed to find her husband’s “lapse” inexcusable, she praised him for trying to “manage someone who was clearly a ‘narcissistic loony toon.’ ”\n",
      "\n",
      "My first thought, as I was getting up to speed: If that’s the worst thing she said, I should be so lucky. Mrs. Clinton, I read, had supposedly confided to Blair that, in part, she blamed herself for her husband’s affair (by being emotionally neglectful) and seemed to forgive him. Although she regarded Bill as having engaged in “gross inappropriate behavior,” the affair was, nonetheless, “consensual (was not a power relationship).”\n",
      "\n",
      "I field the usual calls from friends who lend moral support whenever these volcanic media stories erupt. They diffuse the tension with good-natured teasing: “So, are we changing your monogram to NLT?” I try to ignore the former First Lady’s long-buried comments. Given my experiences with Linda Tripp, I know better than anyone what it’s like to have a conversation with a girlfriend exposed and scrutinized, taken out of context. But, even so, it begins to gnaw at me. I realize that Hillary Clinton was—unlike me when Tripp was prying loose my innermost secrets and insecurities and recording them surreptitiously—fully aware of this documentation: she’s the one who, according to the memos, asked Blair to keep a record or diary of their discussions for archival purposes.\n",
      "\n",
      "Yes, I get it. Hillary Clinton wanted it on record that she was lashing out at her husband’s mistress. She may have faulted her husband for being inappropriate, but I find her impulse to blame the Woman—not only me, but herself—troubling. And all too familiar: with every marital indiscretion that finds its way into the public sphere—many of which involve male politicians—it always seems like the woman conveniently takes the fall. Sure, the Anthony Weiners and Eliot Spitzers do what they need to do to look humiliated on cable news. They bow out of public life for a while, but they inevitably return, having put it all behind them. The women in these imbroglios return to lives that are not so easily repaired.\n",
      "\n",
      "But there is another layer here that is making me bristle: Narcissist? Loony?\n",
      "\n",
      "You might remember that just five days before the world had ever heard my name the F.B.I.—after my friend Linda Tripp approached Special Prosecutor Kenneth Starr’s office with information about my affair with the president—entrapped me in a terrifying “sting” in the Pentagon City mall. At age 24, cornered in a hotel room on January 16, 1998, with mainly male interrogators taking orders from Starr, I was discouraged from contacting my attorney and threatened with 27 years in jail for filing an affidavit denying the affair with Clinton, among other alleged crimes. I was offered immunity from that threat if I agreed to place monitored calls and wear a wire in conversations with two of the president’s confidants and possibly the president himself. I refused. Confiding in Linda Tripp turned into an unintended betrayal. But this? The mother of all betrayals. That, I couldn’t do. Courageous or foolish, maybe, but narcissistic and loony?\n",
      "\n",
      "These 16-year-old descriptions of me triggered memories of past anguish, particularly in the area of women lobbing derision at one another. So where, you might be wondering, were the feminists back then?\n",
      "\n",
      "It’s a question that troubles me to this day.\n",
      "\n",
      "I sorely wished for some sign of understanding from the feminist camp. Some good, old-fashioned, girl-on-girl support was much in need. None came. Given the issues at play—gender politics, sex in the workplace—you’d think they would have spoken up. They didn’t. I understood their dilemma: Bill Clinton had been a president “friendly” to women’s causes.\n",
      "\n",
      "It also didn’t help that my case was not one of conventional “sexual harassment”; that charge against Bill Clinton had been made by Paula Jones, who brought a colossal lawsuit against him. My name surfaced only because, thanks to newly won advances by feminists, investigations of such cases were now allowed to cast a wider net. The Jones case became a stick that the right wing used to strike back at the Clinton-supporting feminists: Why wouldn’t they enthusiastically support an investigation into a case of sexual harassment? What if the president had been a Republican? Charges of hypocrisy flew.\n",
      "\n",
      "A handful of representatives of the modern feminist movement did chime in, obliquely. Yet, instead of any meaningful engagement, we got this: January 30, 1998. Day Nine of the scandal. Cocktails at Le Bernardin, in Manhattan. In attendance: writers Erica Jong, Nancy Friday, Katie Roiphe, and Elizabeth Benedict; Saturday Night Live writer Patricia Marx; Marisa Bowe, the editor of Word, an online magazine; fashion designer Nicole Miller; former dominatrix Susan Shellogg; and their host, Le Bernardin co-owner Maguy Le Coze. The New York Observer brought this coven together to trade Interngate insights, to be recorded by Francine Prose. (Sadly, the gal who would really make this coven complete is missing: Maureen Dowd, or Moremean Dowdy, as I used to refer to her. Today, I’d meet her for a drink.)\n",
      "\n",
      "Oh, to have been at that cocktail party:\n",
      "\n",
      "Marisa Bowe: His whole life is about having to be in control and really intelligent all the time. And his wife is really intelligent and in control all the time. And the idea of just having stupid sex with some not-brilliant woman in the Oval Office, I can see the appeal in that.\n",
      "\n",
      "Imaginary Me: I’m not saying I’m brilliant, but how do you know I’m not? My first job out of college was at the White House.\n",
      "\n",
      "Susan Shellogg: And do you think it’s tremendously selfish? Selfish and demanding, having oral sex and not reciprocating? I mean … she didn’t say, “Well, you know he satisfied me.”\n",
      "\n",
      "Me: And where exactly “didn’t” I say this? In which public statement that I didn’t make? In which testimony that’s not been released?\n",
      "\n",
      "Katie Roiphe: I think what people are outraged about is the way that [Monica Lewinsky] looks, which is interesting. Because we like to think of our presidents as sort of godlike, and so if J.F.K. has an affair with Marilyn Monroe, it’s all in the realm of the demigods…. I mean, the thing I kept hearing over and over again was Monica Lewinsky’s not that pretty.\n",
      "\n",
      "Me: Well, thanks. The first picture that surfaced was a passport photo. Would you like to have a passport photo splattered across publications around the world as the picture that defines you?\n",
      "\n",
      "What you are also saying here is that the primary quality that would qualify a woman to have an intimate relationship with a powerful man is physical attractiveness. If that’s not setting the movement back, I don’t know what is.\n",
      "\n",
      "Erica Jong: My dental hygienist pointed out that she had third-stage gum disease.\n",
      "\n",
      "Shellogg: What do you think will happen to [her]? I mean, she’ll just fade out quietly or write a book? Or people will forget about her six months from now?\n",
      "\n",
      "Nancy Friday: She can rent out her mouth.\n",
      "\n",
      "Me: (Speechless.)\n",
      "\n",
      "Jong: But, you know, men do like to get close to the mouth that has been close to power. Think of the fantasy in the man’s mind as she’s going down on him and he’s thinking, “Oh my God.”\n",
      "\n",
      "Elizabeth Benedict: Do for me what you did to the President. Do that.\n",
      "\n",
      "Me: (Still speechless.)\n",
      "\n",
      "Jong: I think it’s a tribute to how far we’ve come that we’re not trashing Monica Lewinsky.\n",
      "\n",
      "The catty confab appeared under the headline SUPERGALS LOVE THAT NAUGHTY PREZ. (Writing in Vanity Fair, Marjorie Williams called it “the most embarrassing thing I had read in a long time.”) To me, it illustrates a perplexing aspect of the culture of humiliation, one that Phyllis Chesler recognized in her book Woman’s Inhumanity to Woman: that women themselves are not immune to certain kinds of misogyny. We see it today in how the “mean girls” at school lurk on the modern playground of the Web (or around a pundit’s roundtable on TV or at a French restaurant), ever eager to pile on.\n",
      "\n",
      "I still have deep respect for feminism and am thankful for the great strides the movement has made in advancing women’s rights over the past few decades. But, given my experience of being passed around like gender-politics cocktail food, I don’t identify myself as a Feminist, capital F. The movement’s leaders failed in articulating a position that was not essentially anti-woman during the witch hunt of 1998. In the case of the New York Supergals, it should not have been that hard for them to swoon over the president without attacking and shaming me. Instead, they joined the humiliation derby.\n",
      "\n",
      "I , myself, deeply regret what happened between me and President Clinton. Let me say it again: I. Myself. Deeply. Regret. What. Happened. At the time—at least from my point of view—it was an authentic connection, with emotional intimacy, frequent visits, plans made, phone calls and gifts exchanged. In my early 20s, I was too young to understand the real-life consequences, and too young to see that I would be sacrificed for political expediency. I look back now, shake my head in disbelief, and wonder: what was I—what were we—thinking? I would give anything to go back and rewind the tape.\n",
      "\n",
      "Like many other Americans, I’ve been thinking about Hillary Clinton. What might happen, I’ve wondered, if she does run in 2016? And what if she wins—and then wins a second term?\n",
      "\n",
      "But when I think about these matters, there’s a dimension at play for me other than just the fact that we might finally have a woman in the White House. We all remember the second-wave feminist rallying cry The personal is political. Many people (myself included) proclaimed that my relationship with Bill Clinton was a personal matter, not one to be used in a high-stakes political war. When I hear of Hillary’s prospective candidacy, I cannot help but fear the next wave of paparazzi, the next wave of “Where is she now?” stories, the next reference to me in Fox News’s coverage of the primaries. I’ve begun to find it debilitating to plot out the cycle of my life based, to some degree, on the political calendar. For me, it’s a scenario in which the personal and the political are impossible to separate.\n",
      "\n",
      "In 2008, when Hillary was running for president, I remained virtually reclusive, despite being inundated with press requests. I put off announcing several media projects in 2012 until after the election. (They were subsequently canceled—and, no, I wasn’t offered $12 million for a salacious tell-all book, contrary to press reports.) And recently I’ve found myself gun-shy yet again, fearful of “becoming an issue” should she decide to ramp up her campaign. But should I put my life on hold for another 8 to 10 years?\n",
      "\n",
      "Being a conscientious Democrat—and aware that I could be used as a tool for the left or the right—I have remained silent for 10 years. So silent, in fact, that the buzz in some circles has been that the Clintons must have paid me off; why else would I have refrained from speaking out? I can assure you that nothing could be further from the truth.\n",
      "\n",
      "So why speak now? Because it is time.\n",
      "\n",
      "I turned 40 last year, and it is time to stop tiptoeing around my past—and other people’s futures. I am determined to have a different ending to my story. I’ve decided, finally, to stick my head above the parapet so that I can take back my narrative and give a purpose to my past. (What this will cost me, I will soon find out.) Despite what some headlines will falsely report about this piece, this is not about Me versus the Clintons. Their lives have moved on; they occupy important and powerful places on the global stage. I wish them no ill. And I fully understand that what has happened to me and the issue of my future do not matter to either of them.\n",
      "\n",
      "It also goes back to the personal and the political. I have lived many of the questions that have become central to our national discourse since 1998. How far should we allow the government into our bedrooms? How do we reconcile the right to privacy with the need to expose sexual indiscretion? How do we guard against an overzealous government demanding our private data and information? And, most important to me personally, how do we cope with the shame game as it’s played in the Internet Age? (My current goal is to get involved with efforts on behalf of victims of online humiliation and harassment and to start speaking on this topic in public forums.)\n",
      "\n",
      "So far, That Woman has never been able to escape the shadow of that first depiction. I was the Unstable Stalker (a phrase disseminated by the Clinton White House), the Dimwit Floozy, the Poor Innocent who didn’t know any better. The Clinton administration, the special prosecutor’s minions, the political operatives on both sides of the aisle, and the media were able to brand me. And that brand stuck, in part because it was imbued with power. I became a social representation, a social canvas on which anybody could project their confusion about women, sex, infidelity, politics, and body issues.\n",
      "\n",
      "Unlike the other parties involved, I was so young that I had no established identity to which I could return. I didn’t “let this define” me—I simply hadn’t had the life experience to establish my own identity in 1998. If you haven’t figured out who you are, it’s hard not to accept the horrible image of you created by others. (Thus, my compassion for young people who find themselves shamed on the Web.) Despite much self-searching and therapy and exploring of different paths, I remained “stuck” for far too many years.\n",
      "\n",
      "No longer. It’s time to burn the beret and bury the blue dress. And move forward.\n"
     ]
    }
   ],
   "source": [
    "import requests\n",
    "from bs4 import BeautifulSoup\n",
    "\n",
    "url = \"https://www.vanityfair.com/style/society/2014/06/monica-lewinsky-humiliation-culture\"\n",
    "r = requests.get(url)\n",
    "r_html = r.text\n",
    "\n",
    "articles = []\n",
    "\n",
    "soup = BeautifulSoup(r_html, features=\"html.parser\")\n",
    "\n",
    "for p in soup.find_all(\"p\",\"has-dropcap\"): \n",
    "    articles.append(p.text)\n",
    "for p in soup.find_all(\"p\", \"paywall\"):\n",
    "    articles.append(p.text)\n",
    "\n",
    "for article in articles:\n",
    "    print(\"\\n\" + article)"
   ]
  },
  {
   "cell_type": "markdown",
   "id": "5544a027",
   "metadata": {},
   "source": [
    "### Write a function that takes an ordered list of numbers (a list where the elements are in order from smallest to largest) and another number.\n",
    "The function decides whether or not the given number is inside the list and returns (then prints) an appropriate boolean.\n",
    "\n",
    "Extras:\n",
    "\n",
    "1. Use binary search."
   ]
  },
  {
   "cell_type": "code",
   "execution_count": 2,
   "id": "0e6f6034",
   "metadata": {},
   "outputs": [],
   "source": [
    "import random\n",
    "\n",
    "def random_list():\n",
    "    \n",
    "    num_list = [random.randint(1,50) for num in range(1,15)]\n",
    "    num_list.sort()\n",
    "    \n",
    "    return num_list"
   ]
  },
  {
   "cell_type": "code",
   "execution_count": 3,
   "id": "87f1da85",
   "metadata": {},
   "outputs": [],
   "source": [
    "def user_input():\n",
    "    \n",
    "    while True:\n",
    "        user_number = 0\n",
    "        user_number = int(input(\"Input: (1-50) \"))\n",
    "        if user_number not in range(1,50):\n",
    "            continue\n",
    "        else:\n",
    "            break\n",
    "    return user_number"
   ]
  },
  {
   "cell_type": "code",
   "execution_count": 4,
   "id": "eeac968f",
   "metadata": {},
   "outputs": [],
   "source": [
    "def compare(arr,x):\n",
    "    if x in arr:\n",
    "        return True\n",
    "    else:\n",
    "        return False    "
   ]
  },
  {
   "cell_type": "code",
   "execution_count": 7,
   "id": "ed67b9ef",
   "metadata": {},
   "outputs": [
    {
     "name": "stdout",
     "output_type": "stream",
     "text": [
      "Input: (1-50) 30\n"
     ]
    },
    {
     "data": {
      "text/plain": [
       "False"
      ]
     },
     "execution_count": 7,
     "metadata": {},
     "output_type": "execute_result"
    }
   ],
   "source": [
    "arr = random_list()\n",
    "x = user_input()\n",
    "compare(arr,x)"
   ]
  },
  {
   "cell_type": "markdown",
   "id": "85d679b1",
   "metadata": {},
   "source": [
    "#### With binary search\n",
    "\n",
    "shorturl.at/xzBCS"
   ]
  },
  {
   "cell_type": "code",
   "execution_count": 9,
   "id": "148ee8f7",
   "metadata": {},
   "outputs": [],
   "source": [
    "def binary_search(arr,x):\n",
    "    low = 0\n",
    "    high = len(arr) - 1\n",
    "    mid = 0\n",
    "    \n",
    "    while low <= high:\n",
    "        \n",
    "        mid = (high + low) // 2\n",
    "        \n",
    "        if arr[mid] < x:\n",
    "            low = mid + 1\n",
    "        elif arr[mid] > x:\n",
    "            high = mid - 1\n",
    "        else:\n",
    "            return mid\n",
    "    return -1"
   ]
  },
  {
   "cell_type": "code",
   "execution_count": 11,
   "id": "adec4288",
   "metadata": {},
   "outputs": [
    {
     "name": "stdout",
     "output_type": "stream",
     "text": [
      "Input: (1-50) 34\n",
      "Element is not present in array\n"
     ]
    }
   ],
   "source": [
    "arr = [random.randint(1,50) for num in range(1,15)]\n",
    "arr.sort()\n",
    "x = user_input()\n",
    "result = binary_search(arr, x)\n",
    "\n",
    "if result !=  -1:\n",
    "    print(\"Element is present at index\", str(result))\n",
    "else:\n",
    "    print(\"Element is not present in array\")"
   ]
  }
 ],
 "metadata": {
  "kernelspec": {
   "display_name": "Python 3",
   "language": "python",
   "name": "python3"
  },
  "language_info": {
   "codemirror_mode": {
    "name": "ipython",
    "version": 3
   },
   "file_extension": ".py",
   "mimetype": "text/x-python",
   "name": "python",
   "nbconvert_exporter": "python",
   "pygments_lexer": "ipython3",
   "version": "3.8.11"
  }
 },
 "nbformat": 4,
 "nbformat_minor": 5
}
