{
 "cells": [
  {
   "cell_type": "markdown",
   "id": "0b18979c",
   "metadata": {},
   "source": [
    "## Colt Steele Bootcamp Challenges Part 2"
   ]
  },
  {
   "cell_type": "code",
   "execution_count": 408,
   "id": "0b164bb0",
   "metadata": {},
   "outputs": [],
   "source": [
    "'''\n",
    "range_in_list([1,2,3,4],0,2) #  6\n",
    "range_in_list([1,2,3,4],0,3) # 10\n",
    "range_in_list([1,2,3,4],1) #  9\n",
    "range_in_list([1,2,3,4]) # 10\n",
    "range_in_list([1,2,3,4],0,100) # 10\n",
    "range_in_list([],0,1) # 0\n",
    "'''\n",
    "\n",
    "def range_in_list(lst,start=0,end=None):\n",
    "    end = end or lst[-1]\n",
    "    return sum(lst[start:end+1])"
   ]
  },
  {
   "cell_type": "code",
   "execution_count": 409,
   "id": "0f86ea59",
   "metadata": {},
   "outputs": [
    {
     "data": {
      "text/plain": [
       "6"
      ]
     },
     "execution_count": 409,
     "metadata": {},
     "output_type": "execute_result"
    }
   ],
   "source": [
    "range_in_list([1,2,3,4],0,2)"
   ]
  },
  {
   "cell_type": "code",
   "execution_count": 410,
   "id": "4aaf8466",
   "metadata": {},
   "outputs": [
    {
     "data": {
      "text/plain": [
       "10"
      ]
     },
     "execution_count": 410,
     "metadata": {},
     "output_type": "execute_result"
    }
   ],
   "source": [
    "range_in_list([1,2,3,4],0,3)"
   ]
  },
  {
   "cell_type": "code",
   "execution_count": 411,
   "id": "e0ea9dcc",
   "metadata": {},
   "outputs": [
    {
     "data": {
      "text/plain": [
       "9"
      ]
     },
     "execution_count": 411,
     "metadata": {},
     "output_type": "execute_result"
    }
   ],
   "source": [
    "range_in_list([1,2,3,4],1)"
   ]
  },
  {
   "cell_type": "code",
   "execution_count": 412,
   "id": "ea56c8c0",
   "metadata": {},
   "outputs": [
    {
     "data": {
      "text/plain": [
       "10"
      ]
     },
     "execution_count": 412,
     "metadata": {},
     "output_type": "execute_result"
    }
   ],
   "source": [
    "range_in_list([1,2,3,4])"
   ]
  },
  {
   "cell_type": "code",
   "execution_count": 413,
   "id": "20da3230",
   "metadata": {},
   "outputs": [
    {
     "data": {
      "text/plain": [
       "10"
      ]
     },
     "execution_count": 413,
     "metadata": {},
     "output_type": "execute_result"
    }
   ],
   "source": [
    "range_in_list([1,2,3,4],0,100)"
   ]
  },
  {
   "cell_type": "code",
   "execution_count": 414,
   "id": "6b979e96",
   "metadata": {},
   "outputs": [
    {
     "data": {
      "text/plain": [
       "0"
      ]
     },
     "execution_count": 414,
     "metadata": {},
     "output_type": "execute_result"
    }
   ],
   "source": [
    "range_in_list([],0,1)"
   ]
  },
  {
   "cell_type": "markdown",
   "id": "9595c260",
   "metadata": {},
   "source": [
    "---"
   ]
  },
  {
   "cell_type": "code",
   "execution_count": 419,
   "id": "72001df5",
   "metadata": {},
   "outputs": [],
   "source": [
    "import math\n",
    "'''\n",
    "same_frequency(551122,221515) # True\n",
    "same_frequency(321142,3212215) # False\n",
    "same_frequency(1212, 2211) # True\n",
    "'''\n",
    "\n",
    "def same_frequency(n1,n2):\n",
    "    num1 = [str(n1).count(val) for val in str(n1)]\n",
    "    num2 = [str(n2).count(val) for val in str(n2)]\n",
    "    \n",
    "    if num1 == num2:\n",
    "        return True\n",
    "    else:\n",
    "        return False"
   ]
  },
  {
   "cell_type": "code",
   "execution_count": 420,
   "id": "9236c23c",
   "metadata": {},
   "outputs": [
    {
     "data": {
      "text/plain": [
       "True"
      ]
     },
     "execution_count": 420,
     "metadata": {},
     "output_type": "execute_result"
    }
   ],
   "source": [
    "same_frequency(551122,221515)"
   ]
  },
  {
   "cell_type": "code",
   "execution_count": 421,
   "id": "deda7934",
   "metadata": {},
   "outputs": [
    {
     "data": {
      "text/plain": [
       "False"
      ]
     },
     "execution_count": 421,
     "metadata": {},
     "output_type": "execute_result"
    }
   ],
   "source": [
    "same_frequency(321142,3212215)"
   ]
  },
  {
   "cell_type": "code",
   "execution_count": 422,
   "id": "a082945c",
   "metadata": {},
   "outputs": [
    {
     "data": {
      "text/plain": [
       "True"
      ]
     },
     "execution_count": 422,
     "metadata": {},
     "output_type": "execute_result"
    }
   ],
   "source": [
    "same_frequency(1212, 2211)"
   ]
  },
  {
   "cell_type": "markdown",
   "id": "a4fb6fc7",
   "metadata": {},
   "source": [
    "---"
   ]
  },
  {
   "cell_type": "code",
   "execution_count": 423,
   "id": "39f47f1f",
   "metadata": {},
   "outputs": [],
   "source": [
    "'''\n",
    "nth(['a', 'b', 'c', 'd'], 1)  # 'b' \n",
    "nth(['a', 'b', 'c', 'd'], -2) #  'c'\n",
    "nth(['a', 'b', 'c', 'd'], 0)  # 'a'\n",
    "nth(['a', 'b', 'c', 'd'], -4) #  'a'\n",
    "nth(['a', 'b', 'c', 'd'], -1) #  'd'\n",
    "nth(['a', 'b', 'c', 'd'], 3)  # 'd'\n",
    "'''\n",
    "\n",
    "def nth(lst,ind):\n",
    "    return lst[ind]"
   ]
  },
  {
   "cell_type": "code",
   "execution_count": 424,
   "id": "566c0382",
   "metadata": {},
   "outputs": [
    {
     "data": {
      "text/plain": [
       "'b'"
      ]
     },
     "execution_count": 424,
     "metadata": {},
     "output_type": "execute_result"
    }
   ],
   "source": [
    "nth(['a', 'b', 'c', 'd'], 1)"
   ]
  },
  {
   "cell_type": "code",
   "execution_count": 425,
   "id": "d26519c5",
   "metadata": {},
   "outputs": [
    {
     "data": {
      "text/plain": [
       "'c'"
      ]
     },
     "execution_count": 425,
     "metadata": {},
     "output_type": "execute_result"
    }
   ],
   "source": [
    "nth(['a', 'b', 'c', 'd'], -2)"
   ]
  },
  {
   "cell_type": "code",
   "execution_count": 426,
   "id": "160a8820",
   "metadata": {},
   "outputs": [
    {
     "data": {
      "text/plain": [
       "'a'"
      ]
     },
     "execution_count": 426,
     "metadata": {},
     "output_type": "execute_result"
    }
   ],
   "source": [
    "nth(['a', 'b', 'c', 'd'], 0)"
   ]
  },
  {
   "cell_type": "code",
   "execution_count": 427,
   "id": "e122240c",
   "metadata": {},
   "outputs": [
    {
     "data": {
      "text/plain": [
       "'a'"
      ]
     },
     "execution_count": 427,
     "metadata": {},
     "output_type": "execute_result"
    }
   ],
   "source": [
    "nth(['a', 'b', 'c', 'd'], -4)"
   ]
  },
  {
   "cell_type": "code",
   "execution_count": 428,
   "id": "28c487e8",
   "metadata": {},
   "outputs": [
    {
     "data": {
      "text/plain": [
       "'d'"
      ]
     },
     "execution_count": 428,
     "metadata": {},
     "output_type": "execute_result"
    }
   ],
   "source": [
    "nth(['a', 'b', 'c', 'd'], -1)"
   ]
  },
  {
   "cell_type": "code",
   "execution_count": null,
   "id": "b10b86cd",
   "metadata": {},
   "outputs": [],
   "source": [
    "nth(['a', 'b', 'c', 'd'], 3)"
   ]
  },
  {
   "cell_type": "markdown",
   "id": "22ca9227",
   "metadata": {},
   "source": [
    "---"
   ]
  },
  {
   "cell_type": "code",
   "execution_count": 477,
   "id": "5cea31cb",
   "metadata": {},
   "outputs": [],
   "source": [
    "'''\n",
    "find_the_duplicate([1,2,1,4,3,12]) # 1\n",
    "find_the_duplicate([6,1,9,5,3,4,9]) # 9\n",
    "find_the_duplicate([2,1,3,4]) # None\n",
    "'''\n",
    "\n",
    "def find_the_duplicate(arr):\n",
    "    \n",
    "    arr.sort()\n",
    "    for ind,val in enumerate(arr):\n",
    "        if val in arr[ind+1:]:\n",
    "            return val\n",
    "        "
   ]
  },
  {
   "cell_type": "code",
   "execution_count": 478,
   "id": "42477f09",
   "metadata": {},
   "outputs": [
    {
     "data": {
      "text/plain": [
       "1"
      ]
     },
     "execution_count": 478,
     "metadata": {},
     "output_type": "execute_result"
    }
   ],
   "source": [
    "find_the_duplicate([1,2,1,4,3,12]) # 1"
   ]
  },
  {
   "cell_type": "code",
   "execution_count": 479,
   "id": "3a5c96be",
   "metadata": {},
   "outputs": [
    {
     "data": {
      "text/plain": [
       "9"
      ]
     },
     "execution_count": 479,
     "metadata": {},
     "output_type": "execute_result"
    }
   ],
   "source": [
    "find_the_duplicate([6,1,9,5,3,4,9]) # 9"
   ]
  },
  {
   "cell_type": "code",
   "execution_count": 480,
   "id": "d0196aa0",
   "metadata": {},
   "outputs": [],
   "source": [
    "find_the_duplicate([2,1,3,4]) # None"
   ]
  },
  {
   "cell_type": "markdown",
   "id": "23177c5c",
   "metadata": {},
   "source": [
    "---"
   ]
  },
  {
   "cell_type": "markdown",
   "id": "977fc7f3",
   "metadata": {},
   "source": [
    "''\n",
    "EXAMPLES:\n",
    "\n",
    "\n",
    "            list1 = [\n",
    "              [ 1, 2 ],\n",
    "              [ 3, 4 ]\n",
    "            ]\n",
    " \n",
    "sum_up_diagonals(list1) # 10\n",
    "\n",
    "            list2 = [\n",
    "              [ 1, 2, 3 ],\n",
    "              [ 4, 5, 6 ],\n",
    "              [ 7, 8, 9 ]\n",
    "            ]\n",
    " \n",
    "sum_up_diagonals(list2) # 30\n",
    " \n",
    "            list3 = [\n",
    "              [ 4, 1, 0 ],\n",
    "              [ -1, -1, 0],\n",
    "              [ 0, 0, 9]\n",
    "            ]\n",
    "\n",
    "sum_up_diagonals(list3) # 11\n",
    "\n",
    "            list4 = [\n",
    "              [ 1, 2, 3, 4 ],\n",
    "              [ 5, 6, 7, 8 ],\n",
    "              [ 9, 10, 11, 12 ],\n",
    "              [ 13, 14, 15, 16 ]\n",
    "            ]\n",
    " \n",
    "sum_up_diagonals(list4) # 68\n",
    "'''\n"
   ]
  },
  {
   "cell_type": "code",
   "execution_count": 531,
   "id": "47815c20",
   "metadata": {},
   "outputs": [],
   "source": [
    "def sum_up_diagonals(arr):\n",
    "    #NxN \n",
    "    \n",
    "    ind = 0 #topleft to right bottom\n",
    "    total1 = 0\n",
    "    for i in range(len(arr)):\n",
    "        total1 += arr[ind][ind]\n",
    "        ind += 1\n",
    "    \n",
    "    a = 0 #top right to left bottom\n",
    "    b = len(arr)-1\n",
    "    total2 = 0\n",
    "    for i in range(len(arr)):\n",
    "        total2 += arr[a][b]\n",
    "        a += 1\n",
    "        b -= 1\n",
    "        \n",
    "        \n",
    "    return total1+total2\n",
    "        "
   ]
  },
  {
   "cell_type": "code",
   "execution_count": 532,
   "id": "2be611ed",
   "metadata": {},
   "outputs": [
    {
     "data": {
      "text/plain": [
       "10"
      ]
     },
     "execution_count": 532,
     "metadata": {},
     "output_type": "execute_result"
    }
   ],
   "source": [
    "list1 = [\n",
    "          [ 1, 2 ],\n",
    "          [ 3, 4 ]\n",
    "        ]\n",
    "sum_up_diagonals(list1) # 10"
   ]
  },
  {
   "cell_type": "code",
   "execution_count": 533,
   "id": "4619ab7b",
   "metadata": {},
   "outputs": [
    {
     "data": {
      "text/plain": [
       "30"
      ]
     },
     "execution_count": 533,
     "metadata": {},
     "output_type": "execute_result"
    }
   ],
   "source": [
    "list2 = [\n",
    "          [ 1, 2, 3 ],\n",
    "          [ 4, 5, 6 ],\n",
    "          [ 7, 8, 9 ]\n",
    "        ]\n",
    "sum_up_diagonals(list2) # 30"
   ]
  },
  {
   "cell_type": "code",
   "execution_count": 534,
   "id": "fd040487",
   "metadata": {},
   "outputs": [
    {
     "data": {
      "text/plain": [
       "11"
      ]
     },
     "execution_count": 534,
     "metadata": {},
     "output_type": "execute_result"
    }
   ],
   "source": [
    "list3 = [\n",
    "          [ 4, 1, 0 ],\n",
    "          [ -1, -1, 0],\n",
    "          [ 0, 0, 9]\n",
    "        ]\n",
    "sum_up_diagonals(list3) # 11"
   ]
  },
  {
   "cell_type": "code",
   "execution_count": 535,
   "id": "41b14d04",
   "metadata": {},
   "outputs": [
    {
     "data": {
      "text/plain": [
       "68"
      ]
     },
     "execution_count": 535,
     "metadata": {},
     "output_type": "execute_result"
    }
   ],
   "source": [
    "list4 = [\n",
    "          [ 1, 2, 3, 4 ],\n",
    "          [ 5, 6, 7, 8 ],\n",
    "          [ 9, 10, 11, 12 ],\n",
    "          [ 13, 14, 15, 16 ]\n",
    "        ]\n",
    "sum_up_diagonals(list4) # 68"
   ]
  },
  {
   "cell_type": "markdown",
   "id": "933373c0",
   "metadata": {},
   "source": [
    "---"
   ]
  },
  {
   "cell_type": "code",
   "execution_count": 549,
   "id": "2e877351",
   "metadata": {},
   "outputs": [],
   "source": [
    "'''\n",
    "min_max_key_in_dictionary({2:'a', 7:'b', 1:'c',10:'d',4:'e'}) # [1,10]\n",
    "min_max_key_in_dictionary({1: \"Elie\", 4:\"Matt\", 2: \"Tim\"}) # [1,4]\n",
    "'''\n",
    "\n",
    "def min_max_key_in_dictionary(dct):\n",
    "    return [min([val for val in dct.keys()]),max([val for val in dct.keys()])]\n",
    "        "
   ]
  },
  {
   "cell_type": "code",
   "execution_count": 550,
   "id": "16353784",
   "metadata": {},
   "outputs": [
    {
     "data": {
      "text/plain": [
       "[1, 10]"
      ]
     },
     "execution_count": 550,
     "metadata": {},
     "output_type": "execute_result"
    }
   ],
   "source": [
    "min_max_key_in_dictionary({2:'a', 7:'b', 1:'c',10:'d',4:'e'})"
   ]
  },
  {
   "cell_type": "code",
   "execution_count": 551,
   "id": "7f0a0a8e",
   "metadata": {},
   "outputs": [
    {
     "data": {
      "text/plain": [
       "[1, 4]"
      ]
     },
     "execution_count": 551,
     "metadata": {},
     "output_type": "execute_result"
    }
   ],
   "source": [
    "min_max_key_in_dictionary({1: \"Elie\", 4:\"Matt\", 2: \"Tim\"})"
   ]
  },
  {
   "cell_type": "markdown",
   "id": "edb5d2de",
   "metadata": {},
   "source": [
    "---"
   ]
  },
  {
   "cell_type": "code",
   "execution_count": 587,
   "id": "f45fff2a",
   "metadata": {},
   "outputs": [],
   "source": [
    "'''\n",
    "find_greater_numbers([1,2,3]) # 3 \n",
    "find_greater_numbers([6,1,2,7]) # 4\n",
    "find_greater_numbers([5,4,3,2,1]) # 0\n",
    "find_greater_numbers([]) # 0\n",
    "'''\n",
    "\n",
    "def find_greater_numbers(arr):\n",
    "   \n",
    "    count = 0\n",
    "    i = 0\n",
    "    j = 1\n",
    "    while i < len(arr):\n",
    "        while j < len(arr):\n",
    "            if arr[j] > arr[i]:\n",
    "                count += 1\n",
    "            j+=1\n",
    "        j = i+1\n",
    "        i+=1\n",
    "    return count\n",
    "    "
   ]
  },
  {
   "cell_type": "code",
   "execution_count": 588,
   "id": "5e1e9462",
   "metadata": {},
   "outputs": [
    {
     "data": {
      "text/plain": [
       "3"
      ]
     },
     "execution_count": 588,
     "metadata": {},
     "output_type": "execute_result"
    }
   ],
   "source": [
    "find_greater_numbers([1,2,3])"
   ]
  },
  {
   "cell_type": "code",
   "execution_count": 589,
   "id": "80ff2132",
   "metadata": {},
   "outputs": [
    {
     "data": {
      "text/plain": [
       "4"
      ]
     },
     "execution_count": 589,
     "metadata": {},
     "output_type": "execute_result"
    }
   ],
   "source": [
    "find_greater_numbers([6,1,2,7])"
   ]
  },
  {
   "cell_type": "code",
   "execution_count": 590,
   "id": "14361e93",
   "metadata": {},
   "outputs": [
    {
     "data": {
      "text/plain": [
       "0"
      ]
     },
     "execution_count": 590,
     "metadata": {},
     "output_type": "execute_result"
    }
   ],
   "source": [
    "find_greater_numbers([5,4,3,2,1])"
   ]
  },
  {
   "cell_type": "code",
   "execution_count": 591,
   "id": "247317f6",
   "metadata": {},
   "outputs": [
    {
     "data": {
      "text/plain": [
       "0"
      ]
     },
     "execution_count": 591,
     "metadata": {},
     "output_type": "execute_result"
    }
   ],
   "source": [
    "find_greater_numbers([])"
   ]
  },
  {
   "cell_type": "markdown",
   "id": "e9a5613c",
   "metadata": {},
   "source": [
    "---"
   ]
  },
  {
   "cell_type": "code",
   "execution_count": 1,
   "id": "457d7cd2",
   "metadata": {},
   "outputs": [
    {
     "data": {
      "text/plain": [
       "{'a': 1, 'w': 1, 'e': 2, 's': 1, 'o': 1, 'm': 1}"
      ]
     },
     "execution_count": 1,
     "metadata": {},
     "output_type": "execute_result"
    }
   ],
   "source": [
    "def multiple_letter_count(string):\n",
    "    return {letter:string.count(letter) for letter in string}\n",
    "multiple_letter_count(\"awesome\")"
   ]
  }
 ],
 "metadata": {
  "kernelspec": {
   "display_name": "Python 3",
   "language": "python",
   "name": "python3"
  },
  "language_info": {
   "codemirror_mode": {
    "name": "ipython",
    "version": 3
   },
   "file_extension": ".py",
   "mimetype": "text/x-python",
   "name": "python",
   "nbconvert_exporter": "python",
   "pygments_lexer": "ipython3",
   "version": "3.8.11"
  }
 },
 "nbformat": 4,
 "nbformat_minor": 5
}
