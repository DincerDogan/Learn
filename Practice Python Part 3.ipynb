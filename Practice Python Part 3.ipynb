{
 "cells": [
  {
   "cell_type": "markdown",
   "id": "a2634a10",
   "metadata": {},
   "source": [
    "### Take the code from the \n",
    "<a href=\"https://www.practicepython.org/exercise/2014/06/06/17-decode-a-web-page.html\">How To Decode A Website</a> exercise (if you didn’t do it or just want to play with some different code, use the code from the solution), and instead of printing the results to a screen, write the results to a txt file. In your code, just make up a name for the file you are saving to.\n",
    "\n",
    "practicepython.txt"
   ]
  },
  {
   "cell_type": "code",
   "execution_count": 3,
   "id": "5a351c24",
   "metadata": {},
   "outputs": [],
   "source": [
    "import requests\n",
    "from bs4 import BeautifulSoup\n",
    "\n",
    "url = \"https://www.nytimes.com/\"\n",
    "r = requests.get(url)\n",
    "r_html = r.text\n",
    "\n",
    "titles = []\n",
    "\n",
    "soup = BeautifulSoup(r_html, features=\"html.parser\")\n",
    "for h2 in soup.find_all(\"h3\",\"css-xxaj7r e1lsht870\"): \n",
    "    titles.append(h2.text)\n",
    "for h2 in soup.find_all(\"h3\",\"css-n4020u e1lsht870\"): \n",
    "    titles.append(h2.text)\n",
    "for h2 in soup.find_all(\"h3\",\"css-svu3ba e1lsht870\"): \n",
    "    titles.append(h2.text)\n",
    "\n",
    "for title in titles:\n",
    "    with open(\"practicepython.txt\", \"w\") as open_file:\n",
    "        for title in titles:\n",
    "            open_file.write(\"\\n\" + title)"
   ]
  },
  {
   "cell_type": "code",
   "execution_count": 5,
   "id": "bf82ef2e",
   "metadata": {},
   "outputs": [
    {
     "name": "stdout",
     "output_type": "stream",
     "text": [
      "\n",
      "G7 Leaders to Meet as Afghanistan Withdrawal Deadline Nears\n",
      "Kathy Hochul Is Sworn In as New York’s First Female Governor\n",
      "Many Older Americans Aren’t Vaccinated, Making the Delta Wave Deadlier\n",
      "Rescuers in Tennessee Search for Missing After Deadly Flash Floods\n",
      "Biden Faces a Trade-Off: Stop Corruption, or Migration?\n",
      "Is New York’s Wave of Gun Violence Receding? Experts Have Hope.\n",
      "How to Buy Glasses Online\n"
     ]
    }
   ],
   "source": [
    "with open(\"practicepython.txt\", \"r\") as file:\n",
    "    print(file.read())"
   ]
  },
  {
   "cell_type": "markdown",
   "id": "52391221",
   "metadata": {},
   "source": [
    "### Given a .txt file that has a list of a bunch of names, count how many of each name there are in the file, and print out the results to the screen. I have a .txt file for you, if you want to use it\n",
    "\n",
    "Extra:\n",
    "\n",
    "1. Instead of using the .txt file from above (or instead of, if you want the challenge), take this .txt file, and count how many of each “category” of each image there are. This text file is actually a list of files corresponding to the SUN database scene recognition database, and lists the file directory hierarchy for the images. Once you take a look at the first line or two of the file, it will be clear which part represents the scene category. To do this, you’re going to have to remember a bit about string parsing in Python 3. I talked a little bit about it in this post."
   ]
  },
  {
   "cell_type": "code",
   "execution_count": 139,
   "id": "e6102c97",
   "metadata": {},
   "outputs": [
    {
     "name": "stdout",
     "output_type": "stream",
     "text": [
      "{'Darth': 31, 'Luke': 15, 'Lea': 54}\n"
     ]
    }
   ],
   "source": [
    "counter = {}\n",
    "\n",
    "with open('nameslist.txt') as f:\n",
    "    line = f.readline()\n",
    "    \n",
    "    while line:\n",
    "        line = line.strip()\n",
    "        if line in counter:\n",
    "            counter[line] += 1\n",
    "        else:\n",
    "            counter[line] = 1\n",
    "        \n",
    "        line = f.readline()\n",
    "        \n",
    "print(counter)"
   ]
  },
  {
   "cell_type": "code",
   "execution_count": 3,
   "id": "7cc46fd0",
   "metadata": {
    "scrolled": true
   },
   "outputs": [
    {
     "name": "stdout",
     "output_type": "stream",
     "text": [
      "{'abbey': 50, 'airplane_cabin': 50, 'airport_terminal': 50, 'alley': 50, 'amphitheater': 50, 'amusement_arcade': 50, 'amusement_park': 50, 'anechoic_chamber': 50, 'apartment_building/outdoor': 50, 'apse/indoor': 50, 'aquarium': 50, 'aqueduct': 50, 'arch': 50, 'archive': 50, 'arrival_gate/outdoor': 50, 'art_gallery': 50, 'art_school': 50, 'art_studio': 50, 'assembly_line': 50, 'athletic_field/outdoor': 50, 'atrium/public': 50, 'attic': 50, 'auditorium': 50, 'auto_factory': 50, 'badlands': 50, 'badminton_court/indoor': 50, 'baggage_claim': 50, 'bakery/shop': 50, 'balcony/exterior': 50, 'balcony/interior': 50, 'ball_pit': 50, 'ballroom': 50, 'bamboo_forest': 50, 'banquet_hall': 50, 'bar': 50, 'barn': 50, 'barndoor': 50, 'baseball_field': 50, 'basement': 50, 'basilica': 50, 'basketball_court/outdoor': 50, 'bathroom': 50, 'batters_box': 50, 'bayou': 50, 'bazaar/indoor': 50, 'bazaar/outdoor': 50, 'beach': 50, 'beauty_salon': 50, 'bedroom': 50, 'berth': 50, 'biology_laboratory': 50, 'bistro/indoor': 50, 'boardwalk': 50, 'boat_deck': 50, 'boathouse': 50, 'bookstore': 50, 'booth/indoor': 50, 'botanical_garden': 50, 'bow_window/indoor': 50, 'bow_window/outdoor': 50, 'bowling_alley': 50, 'boxing_ring': 50, 'brewery/indoor': 50, 'bridge': 50, 'building_facade': 50, 'bullring': 50, 'burial_chamber': 50, 'bus_interior': 50, 'butchers_shop': 50, 'butte': 50, 'cabin/outdoor': 50, 'cafeteria': 50, 'campsite': 50, 'campus': 50, 'canal/natural': 50, 'canal/urban': 50, 'candy_store': 50, 'canyon': 50, 'car_interior/backseat': 50, 'car_interior/frontseat': 50, 'carrousel': 50, 'casino/indoor': 50, 'castle': 50, 'catacomb': 50, 'cathedral/indoor': 50, 'cathedral/outdoor': 50, 'cavern/indoor': 50, 'cemetery': 50, 'chalet': 50, 'cheese_factory': 50, 'chemistry_lab': 50, 'chicken_coop/indoor': 50, 'chicken_coop/outdoor': 50, 'childs_room': 50, 'church/indoor': 50, 'church/outdoor': 50, 'classroom': 50, 'clean_room': 50, 'cliff': 50, 'cloister/indoor': 50, 'closet': 50, 'clothing_store': 50, 'coast': 50, 'cockpit': 50, 'coffee_shop': 50, 'computer_room': 50, 'conference_center': 50, 'conference_room': 50, 'construction_site': 50, 'control_room': 50, 'control_tower/outdoor': 50, 'corn_field': 50, 'corral': 50, 'corridor': 50, 'cottage_garden': 50, 'courthouse': 50, 'courtroom': 50, 'courtyard': 50, 'covered_bridge/exterior': 50, 'creek': 50, 'crevasse': 50, 'crosswalk': 50, 'cubicle/office': 50, 'dam': 50, 'delicatessen': 50, 'dentists_office': 50, 'desert/sand': 50, 'desert/vegetation': 50, 'diner/indoor': 50, 'diner/outdoor': 50, 'dinette/home': 50, 'dinette/vehicle': 50, 'dining_car': 50, 'dining_room': 50, 'discotheque': 50, 'dock': 50, 'doorway/outdoor': 50, 'dorm_room': 50, 'driveway': 50, 'driving_range/outdoor': 50, 'drugstore': 50, 'electrical_substation': 50, 'elevator/door': 50, 'elevator/interior': 50, 'elevator_shaft': 50, 'engine_room': 50, 'escalator/indoor': 50, 'excavation': 50, 'factory/indoor': 50, 'fairway': 50, 'fastfood_restaurant': 50, 'field/cultivated': 50, 'field/wild': 50, 'fire_escape': 50, 'fire_station': 50, 'firing_range/indoor': 50, 'fishpond': 50, 'florist_shop/indoor': 50, 'food_court': 50, 'forest/broadleaf': 50, 'forest/needleleaf': 50, 'forest_path': 50, 'forest_road': 50, 'formal_garden': 50, 'fountain': 50, 'galley': 50, 'game_room': 50, 'garage/indoor': 50, 'garbage_dump': 50, 'gas_station': 50, 'gazebo/exterior': 50, 'general_store/indoor': 50, 'general_store/outdoor': 50, 'gift_shop': 50, 'golf_course': 50, 'greenhouse/indoor': 50, 'greenhouse/outdoor': 50, 'gymnasium/indoor': 50, 'hangar/indoor': 50, 'hangar/outdoor': 50, 'harbor': 50, 'hayfield': 50, 'heliport': 50, 'herb_garden': 50, 'highway': 50, 'hill': 50, 'home_office': 50, 'hospital': 50, 'hospital_room': 50, 'hot_spring': 50, 'hot_tub/outdoor': 50, 'hotel/outdoor': 50, 'hotel_room': 50, 'house': 50, 'hunting_lodge/outdoor': 50, 'ice_cream_parlor': 50, 'ice_floe': 50, 'ice_shelf': 50, 'ice_skating_rink/indoor': 50, 'ice_skating_rink/outdoor': 50, 'iceberg': 50, 'igloo': 50, 'industrial_area': 50, 'inn/outdoor': 50, 'islet': 50, 'jacuzzi/indoor': 50, 'jail/indoor': 50, 'jail_cell': 50, 'jewelry_shop': 50, 'kasbah': 50, 'kennel/indoor': 50, 'kennel/outdoor': 50, 'kindergarden_classroom': 50, 'kitchen': 50, 'kitchenette': 50, 'labyrinth/outdoor': 50, 'lake/natural': 50, 'landfill': 50, 'landing_deck': 50, 'laundromat': 50, 'lecture_room': 50, 'library/indoor': 50, 'library/outdoor': 50, 'lido_deck/outdoor': 50, 'lift_bridge': 50, 'lighthouse': 50, 'limousine_interior': 50, 'living_room': 50, 'lobby': 50, 'lock_chamber': 50, 'locker_room': 50, 'mansion': 50, 'manufactured_home': 50, 'market/indoor': 50, 'market/outdoor': 50, 'marsh': 50, 'martial_arts_gym': 50, 'mausoleum': 50, 'medina': 50, 'moat/water': 50, 'monastery/outdoor': 50, 'mosque/indoor': 50, 'mosque/outdoor': 50, 'motel': 50, 'mountain': 50, 'mountain_snowy': 50, 'movie_theater/indoor': 50, 'museum/indoor': 50, 'music_store': 50, 'music_studio': 50, 'nuclear_power_plant/outdoor': 50, 'nursery': 50, 'oast_house': 50, 'observatory/outdoor': 50, 'ocean': 50, 'office': 50, 'office_building': 50, 'oil_refinery/outdoor': 50, 'oilrig': 50, 'operating_room': 50, 'orchard': 50, 'outhouse/outdoor': 50, 'pagoda': 50, 'palace': 50, 'pantry': 50, 'park': 50, 'parking_garage/indoor': 50, 'parking_garage/outdoor': 50, 'parking_lot': 50, 'parlor': 50, 'pasture': 50, 'patio': 50, 'pavilion': 50, 'pharmacy': 50, 'phone_booth': 50, 'physics_laboratory': 50, 'picnic_area': 50, 'pilothouse/indoor': 50, 'planetarium/outdoor': 50, 'playground': 50, 'playroom': 50, 'plaza': 50, 'podium/indoor': 50, 'podium/outdoor': 50, 'pond': 50, 'poolroom/establishment': 50, 'poolroom/home': 50, 'power_plant/outdoor': 50, 'promenade_deck': 50, 'pub/indoor': 50, 'pulpit': 50, 'putting_green': 50, 'racecourse': 50, 'raceway': 50, 'raft': 50, 'railroad_track': 50, 'rainforest': 50, 'reception': 50, 'recreation_room': 50, 'residential_neighborhood': 50, 'restaurant': 50, 'restaurant_kitchen': 50, 'restaurant_patio': 50, 'rice_paddy': 50, 'riding_arena': 50, 'river': 50, 'rock_arch': 50, 'rope_bridge': 50, 'ruin': 50, 'runway': 50, 'sandbar': 50, 'sandbox': 50, 'sauna': 50, 'schoolhouse': 50, 'sea_cliff': 50, 'server_room': 50, 'shed': 50, 'shoe_shop': 50, 'shopfront': 50, 'shopping_mall/indoor': 50, 'shower': 50, 'skatepark': 50, 'ski_lodge': 50, 'ski_resort': 50, 'ski_slope': 50, 'sky': 50, 'skyscraper': 50, 'slum': 50, 'snowfield': 50, 'squash_court': 50, 'stable': 50, 'stadium/baseball': 50, 'stadium/football': 50, 'stage/indoor': 50, 'staircase': 50, 'street': 50, 'subway_interior': 50, 'subway_station/platform': 50, 'supermarket': 50, 'sushi_bar': 50, 'swamp': 50, 'swimming_pool/indoor': 50, 'swimming_pool/outdoor': 50, 'synagogue/indoor': 50, 'synagogue/outdoor': 50, 'television_studio': 50, 'temple/east_asia': 50, 'temple/south_asia': 50, 'tennis_court/indoor': 50, 'tennis_court/outdoor': 50, 'tent/outdoor': 50, 'theater/indoor_procenium': 50, 'theater/indoor_seats': 50, 'thriftshop': 50, 'throne_room': 50, 'ticket_booth': 50, 'toll_plaza': 50, 'topiary_garden': 50, 'tower': 50, 'toyshop': 50, 'track/outdoor': 50, 'train_railway': 50, 'train_station/platform': 50, 'tree_farm': 50, 'tree_house': 50, 'trench': 50, 'underwater/coral_reef': 50, 'utility_room': 50, 'valley': 50, 'van_interior': 50, 'vegetable_garden': 50, 'veranda': 50, 'veterinarians_office': 50, 'viaduct': 50, 'videostore': 50, 'village': 50, 'vineyard': 50, 'volcano': 50, 'volleyball_court/indoor': 50, 'volleyball_court/outdoor': 50, 'waiting_room': 50, 'warehouse/indoor': 50, 'water_tower': 50, 'waterfall/block': 50, 'waterfall/fan': 50, 'waterfall/plunge': 50, 'watering_hole': 50, 'wave': 50, 'wet_bar': 50, 'wheat_field': 50, 'wind_farm': 50, 'windmill': 50, 'wine_cellar/barrel_storage': 50, 'wine_cellar/bottle_storage': 50, 'wrestling_ring/indoor': 50, 'yard': 50, 'youth_hostel': 49, 'youth_hoste': 1}\n"
     ]
    }
   ],
   "source": [
    "counter = {}\n",
    "with open('Training_01.txt') as f:\n",
    "    line = f.readline()\n",
    "    \n",
    "    while line:\n",
    "        line = line[3:-26]\n",
    "        if line in counter:\n",
    "            counter[line] += 1\n",
    "        else:\n",
    "            counter[line] = 1\n",
    "        \n",
    "        line = f.readline()\n",
    "        \n",
    "print(counter)"
   ]
  },
  {
   "cell_type": "markdown",
   "id": "1142505c",
   "metadata": {},
   "source": [
    "### Given two .txt files that have lists of numbers in them, find the numbers that are overlapping. One .txt file has a list of all prime numbers under 1000, and the other .txt file has a list of happy numbers up to 1000.\n",
    "\n",
    "(If you forgot, prime numbers are numbers that can’t be divided by any other number. And yes, happy numbers are a real thing in mathematics - you can look it up on Wikipedia. The explanation is easier with an example, which I will describe below.)"
   ]
  },
  {
   "cell_type": "code",
   "execution_count": 9,
   "id": "5f2e4be5",
   "metadata": {},
   "outputs": [
    {
     "name": "stdout",
     "output_type": "stream",
     "text": [
      "[7, 13, 19, 23, 31, 79, 97, 103, 109, 139, 167, 193, 239, 263, 293, 313, 331, 367, 379, 383, 397, 409, 487, 563, 617, 653, 673, 683, 709, 739, 761, 863, 881, 907, 937]\n"
     ]
    }
   ],
   "source": [
    "primes = []\n",
    "happies = []\n",
    "\n",
    "with open('primenumbers.txt') as prime:\n",
    "    line = prime.readline()\n",
    "    \n",
    "    while line:\n",
    "        primes.append(int(line))\n",
    "        line = prime.readline()\n",
    "\n",
    "with open('happynumbers.txt') as happy:\n",
    "    line = happy.readline()\n",
    "    \n",
    "    while line:\n",
    "        happies.append(int(line))\n",
    "        line = happy.readline()\n",
    "\n",
    "overlap = []\n",
    "\n",
    "for i in primes:\n",
    "    for j in happies:\n",
    "        if i == j:\n",
    "            overlap.append(i)\n",
    "        else:\n",
    "            continue   \n",
    "\n",
    "print(overlap)\n"
   ]
  },
  {
   "cell_type": "markdown",
   "id": "54f86e52",
   "metadata": {},
   "source": [
    "### Time for some fake graphics!\n",
    "\n",
    "Time for some fake graphics! Let’s say we want to draw game boards that look like this:\n",
    "\n",
    "\n",
    "                     --- --- --- \n",
    "                    |   |   |   | \n",
    "                     --- --- ---  \n",
    "                    |   |   |   | \n",
    "                     --- --- ---  \n",
    "                    |   |   |   | \n",
    "                     --- --- ---\n",
    "\n",
    " \n",
    "This one is 3x3 (like in tic tac toe). Obviously, they come in many other sizes (8x8 for chess, 19x19 for Go, and many more).\n",
    "\n",
    "Ask the user what size game board they want to draw, and draw it for them to the screen using Python’s print statement."
   ]
  },
  {
   "cell_type": "code",
   "execution_count": 9,
   "id": "793aa418",
   "metadata": {
    "scrolled": true
   },
   "outputs": [
    {
     "name": "stdout",
     "output_type": "stream",
     "text": [
      "Size: (n*n) 4\n",
      " ---  ---  ---  --- \n",
      "|    |    |    |    |    \n",
      " ---  ---  ---  --- \n",
      "|    |    |    |    |    \n",
      " ---  ---  ---  --- \n",
      "|    |    |    |    |    \n",
      " ---  ---  ---  --- \n",
      "|    |    |    |    |    \n",
      " ---  ---  ---  --- \n"
     ]
    }
   ],
   "source": [
    "def horizon():\n",
    "    print(\" --- \" * size)\n",
    "    \n",
    "def vertical():\n",
    "    print(\"|    \" * (size+1))\n",
    "    \n",
    "if __name__ == \"__main__\":\n",
    "    size = int(input(\"Size: (n*n) \"))\n",
    "    \n",
    "    for i in range(size):\n",
    "        horizon()\n",
    "        vertical()\n",
    "    print(\" --- \" * size)"
   ]
  },
  {
   "cell_type": "markdown",
   "id": "8cd4a70d",
   "metadata": {},
   "source": [
    "### We’ve written a program that “knows” a number and asks a user to guess it.\n",
    "\n",
    "This time, we’re going to do exactly the opposite. You, the user, will have in your head a number between 0 and 100. The program will guess a number, and you, the user, will say whether it is too high, too low, or your number.\n",
    "\n",
    "At the end of this exchange, your program should print out how many guesses it took to get your number.\n",
    "\n",
    "As the writer of this program, you will have to choose how your program will strategically guess. A naive strategy can be to simply start the guessing at 1, and keep going (2, 3, 4, etc.) until you hit the number. But that’s not an optimal guessing strategy. An alternate strategy might be to guess 50 (right in the middle of the range), and then increase / decrease by 1 as needed. After you’ve written the program, try to find the optimal strategy! (We’ll talk about what is the optimal one next week with the solution.)"
   ]
  },
  {
   "cell_type": "code",
   "execution_count": 2,
   "id": "6c2f7500",
   "metadata": {
    "scrolled": true
   },
   "outputs": [
    {
     "name": "stdout",
     "output_type": "stream",
     "text": [
      "think a number and hold that thought\n",
      "Is your guess 50? (lower, yes, higher)higher\n",
      "Is your guess 75? (lower, yes, higher)higher\n",
      "Is your guess 88? (lower, yes, higher)lower\n",
      "Is your guess 81? (lower, yes, higher)higher\n",
      "Is your guess 84? (lower, yes, higher)lower\n",
      "Is your guess 82? (lower, yes, higher)y\n",
      "It took 6 times to guess your number\n"
     ]
    }
   ],
   "source": [
    "def guess():\n",
    "    low = 0\n",
    "    mid = 50\n",
    "    high = 100\n",
    "    guesses = 1\n",
    "    condition = \"\"\n",
    "    print(\"think a number and hold that thought\")\n",
    "    \n",
    "    while condition != \"lower\" and condition != \"yes\" and condition != \"higher\":\n",
    "        condition = input(\"Is your guess \" + str(mid) + \"? (lower, yes, higher)\").lower()\n",
    "    \n",
    "    while condition[0] != \"y\":\n",
    "        guesses += 1\n",
    "        \n",
    "        if condition[0] == \"h\":\n",
    "            low = mid + 1\n",
    "        elif condition[0] == \"l\":\n",
    "            high = mid - 1\n",
    "            \n",
    "        mid = (high+low) // 2\n",
    "        condition = input(\"Is your guess \" + str(mid) + \"? (lower, yes, higher)\").lower()\n",
    "    print(f\"It took {guesses} times to guess your number\")\n",
    "\n",
    "guess()"
   ]
  },
  {
   "cell_type": "markdown",
   "id": "a2173537",
   "metadata": {},
   "source": [
    "### Implement a function that takes as input three variables, and returns the largest of the three. Do this without using the Python max() function!\n",
    "\n",
    "The goal of this exercise is to think about some internals that Python normally takes care of for us. All you need is some variables and if statements!"
   ]
  },
  {
   "cell_type": "code",
   "execution_count": 13,
   "id": "2ccd25f6",
   "metadata": {},
   "outputs": [
    {
     "data": {
      "text/plain": [
       "18"
      ]
     },
     "execution_count": 13,
     "metadata": {},
     "output_type": "execute_result"
    }
   ],
   "source": [
    "# from itertools import permutations\n",
    "# perm = permutations([1,2,3])\n",
    "# for i in list(perm):\n",
    "#     print(i)\n",
    "\n",
    "def biggest(a,b,c):\n",
    "    high = 0\n",
    "    \n",
    "    if a < b < c:\n",
    "        high = c\n",
    "         \n",
    "    elif a < c < b:\n",
    "        high = b\n",
    "         \n",
    "    elif b < a < c:\n",
    "        high = c\n",
    "         \n",
    "    elif b < c < a:\n",
    "        high = a\n",
    "         \n",
    "    elif c < a < b:\n",
    "        high = b\n",
    "         \n",
    "    elif c < b < a:\n",
    "        high = a\n",
    "        \n",
    "    return high\n",
    "\n",
    "biggest(18,5,3)"
   ]
  },
  {
   "cell_type": "markdown",
   "id": "00cd518d",
   "metadata": {},
   "source": [
    "### In this exercise, the task is to write a function that picks a random word from a list of words\n",
    "\n",
    "from the <a href=\"http://norvig.com/ngrams/sowpods.txt\">SOWPODS dictionary.</a> Download this file and save it in the same directory as your Python code. This file is Peter Norvig’s compilation of the dictionary of words used in professional Scrabble tournaments. Each line in the file contains a single word.\n",
    "\n",
    "Hint: use the Python random library for picking a random word."
   ]
  },
  {
   "cell_type": "code",
   "execution_count": 1,
   "id": "4b8b4b29",
   "metadata": {},
   "outputs": [],
   "source": [
    "import random\n",
    "def pick_random_word():\n",
    "    \n",
    "    words = []\n",
    "    with open(\"sowpods.txt\",\"r\") as f:\n",
    "        line = f.readline()\n",
    "        \n",
    "\n",
    "        while line:\n",
    "            line = line.strip()\n",
    "            words.append(line)\n",
    "            line = f.readline()\n",
    "            \n",
    "    i = random.randint(1,267751)\n",
    "    return words[i]"
   ]
  },
  {
   "cell_type": "code",
   "execution_count": 2,
   "id": "004bf220",
   "metadata": {},
   "outputs": [
    {
     "data": {
      "text/plain": [
       "'UNSOLIDITIES'"
      ]
     },
     "execution_count": 2,
     "metadata": {},
     "output_type": "execute_result"
    }
   ],
   "source": [
    "pick_random_word()"
   ]
  },
  {
   "cell_type": "markdown",
   "id": "d8eef01c",
   "metadata": {},
   "source": [
    "### In the game of Hangman\n",
    "\n",
    "a clue word is given by the program that the player has to guess, letter by letter. The player guesses one letter at a time until the entire word has been guessed. (In the actual game, the player can only guess 6 letters incorrectly before losing).\n",
    "\n",
    "\n",
    "Let’s say the word the player has to guess is “EVAPORATE”. For this exercise, write the logic that asks a player to guess a letter and displays letters in the clue word that were guessed correctly. For now, let the player guess an infinite number of times until they get the entire word. As a bonus, keep track of the letters the player guessed and display a different message if the player tries to guess that letter again. Remember to stop the game when all the letters have been guessed correctly! Don’t worry about choosing a word randomly or keeping track of the number of guesses the player has remaining - we will deal with those in a future exercise.\n",
    "\n",
    "An example interaction can look like this:\n",
    "\n",
    "_ _ _ _ _ _ _ _ _\n",
    "\n",
    "Guess your letter: S\n",
    "Incorrect!\n",
    "\n",
    "Guess your letter: E\n",
    "E _ _ _ _ _ _ _ E\n",
    "...\n",
    "And so on, until the player gets the word."
   ]
  },
  {
   "cell_type": "code",
   "execution_count": 3,
   "id": "7f77ceb3",
   "metadata": {},
   "outputs": [
    {
     "name": "stdout",
     "output_type": "stream",
     "text": [
      "__________\n",
      "Guess a letter: a\n",
      "_A_____A__\n",
      "Guess a letter: e\n",
      "_A__E__A__\n",
      "Guess a letter: ı\n",
      "Incorrect!\n",
      "Guess a letter: i\n",
      "You already tried I\n",
      "Guess a letter: o\n",
      "Incorrect!\n",
      "Guess a letter: u\n",
      "_A__E_UA__\n",
      "Guess a letter: w\n",
      "Incorrect!\n",
      "Guess a letter: h\n",
      "Incorrect!\n",
      "Guess a letter: k\n",
      "Incorrect!\n",
      "Guess a letter: l\n",
      "_A__E_UAL_\n",
      "Guess a letter: d\n",
      "Incorrect!\n",
      "Guess a letter: p\n",
      "PA__E_UAL_\n",
      "Guess a letter: r\n",
      "Incorrect!\n",
      "Guess a letter: s\n",
      "PA_SE_UALS\n",
      "Guess a letter: t\n",
      "Incorrect!\n",
      "Guess a letter: n\n",
      "PANSE_UALS\n",
      "Guess a letter: s\n",
      "You already tried S\n",
      "Guess a letter: x\n",
      "PANSEXUALS\n",
      "You won!\n",
      "Do you want to continue? [y,n]n\n"
     ]
    }
   ],
   "source": [
    "import random\n",
    "\n",
    "def pick_random_word():\n",
    "    words = []\n",
    "    with open(\"sowpods.txt\",\"r\") as f:\n",
    "        line = f.readline()\n",
    "        while line:\n",
    "            line = line.strip()\n",
    "            words.append(line)\n",
    "            line = f.readline()  \n",
    "    i = random.randint(1,267751)\n",
    "    return words[i]\n",
    "\n",
    "def check_letters(word: str,guess: str):\n",
    "    return [i for i, ltr in enumerate(word) if ltr == guess]\n",
    "\n",
    "def add_letters(guessed: str, guess: str, places: list):\n",
    "    charlist = list(guessed)\n",
    "    for i in places:\n",
    "        charlist[i] = guess\n",
    "    return \"\".join(charlist)\n",
    "\n",
    "def main():\n",
    "    playing = True\n",
    "    while playing:\n",
    "        guessedlist = []\n",
    "        word = pick_random_word()\n",
    "        guessed = \"_\" * len(word)\n",
    "        print(guessed)\n",
    "        while guessed != word:\n",
    "            guess = input(\"Guess a letter: \").upper()\n",
    "            if guess in guessedlist:\n",
    "                print(f\"You already tried {guess}\")\n",
    "            else:\n",
    "                guessedlist.append(guess)\n",
    "                places = check_letters(word,guess)\n",
    "                if places == []:\n",
    "                    print(\"Incorrect!\")\n",
    "                    continue\n",
    "                else:\n",
    "                    guessed = add_letters(guessed,guess,places)\n",
    "                    print(guessed)\n",
    "        else:\n",
    "            print(\"You won!\")\n",
    "        if input(\"Do you want to continue? [y,n]\") == \"n\":\n",
    "            playing = False\n",
    "\n",
    "\n",
    "if __name__ == \"__main__\":\n",
    "    main()"
   ]
  }
 ],
 "metadata": {
  "kernelspec": {
   "display_name": "Python 3",
   "language": "python",
   "name": "python3"
  },
  "language_info": {
   "codemirror_mode": {
    "name": "ipython",
    "version": 3
   },
   "file_extension": ".py",
   "mimetype": "text/x-python",
   "name": "python",
   "nbconvert_exporter": "python",
   "pygments_lexer": "ipython3",
   "version": "3.8.11"
  }
 },
 "nbformat": 4,
 "nbformat_minor": 5
}
