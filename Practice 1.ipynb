{
 "cells": [
  {
   "cell_type": "markdown",
   "id": "e883b523",
   "metadata": {},
   "source": [
    "## Colt Steele Bootcamp Challenges Part 1"
   ]
  },
  {
   "cell_type": "code",
   "execution_count": 19,
   "id": "5858dabc",
   "metadata": {},
   "outputs": [
    {
     "data": {
      "text/plain": [
       "[1]"
      ]
     },
     "execution_count": 19,
     "metadata": {},
     "output_type": "execute_result"
    }
   ],
   "source": [
    "'''\n",
    "remove_every_other([1,2,3,4,5]) # [1,3,5] \n",
    "remove_every_other([5,1,2,4,1]) # [5,2,1]\n",
    "remove_every_other([1]) # [1] \n",
    "'''\n",
    "\n",
    "def remove_every_other(n):\n",
    "    \n",
    "#     nums = [i for i in range(1,len(n)+1,2)]\n",
    "#     print(nums)\n",
    "#     for num in nums:\n",
    "#         n.pop(num)\n",
    "    answer = []\n",
    "    for ind,value in enumerate(n):\n",
    "        if ind == 0:\n",
    "            answer.append(value)\n",
    "        elif ind % 2 == 0:\n",
    "            answer.append(value)\n",
    "    return answer\n",
    "\n",
    "remove_every_other([1])"
   ]
  },
  {
   "cell_type": "markdown",
   "id": "bfc4b7d4",
   "metadata": {},
   "source": [
    "---"
   ]
  },
  {
   "cell_type": "code",
   "execution_count": 36,
   "id": "7c568097",
   "metadata": {},
   "outputs": [
    {
     "data": {
      "text/plain": [
       "[4, 2]"
      ]
     },
     "execution_count": 36,
     "metadata": {},
     "output_type": "execute_result"
    }
   ],
   "source": [
    "import itertools\n",
    "'''\n",
    "sum_pairs([4,2,10,5,1], 6) # [4,2]\n",
    "sum_pairs([11,20,4,2,1,5], 100) # []\n",
    "'''\n",
    "\n",
    "def sum_pairs(lst,num):\n",
    "    \n",
    "    pairs = [val for val in itertools.combinations(lst,2)]\n",
    "    \n",
    "    for tup in pairs:\n",
    "        if sum(tup) == num:\n",
    "            return [val for val in tup]\n",
    "        else:\n",
    "            return []\n",
    "        \n",
    "\n",
    "sum_pairs([4,2,10,5,1], 6)"
   ]
  },
  {
   "cell_type": "markdown",
   "id": "9f46ffe2",
   "metadata": {},
   "source": [
    "---"
   ]
  },
  {
   "cell_type": "code",
   "execution_count": 58,
   "id": "dcc65dcd",
   "metadata": {},
   "outputs": [
    {
     "data": {
      "text/plain": [
       "{'a': 1, 'e': 2, 'o': 1}"
      ]
     },
     "execution_count": 58,
     "metadata": {},
     "output_type": "execute_result"
    }
   ],
   "source": [
    "'''\n",
    "vowel_count('awesome') # {'a': 1, 'e': 2, 'o': 1}\n",
    "vowel_count('Elie') # {'e': 2, 'i': 1}\n",
    "vowel_count('Colt') # {'o': 1}\n",
    "'''\n",
    "\n",
    "def vowel_count(string):\n",
    "\n",
    "    return {char:string.lower().count(char) for char in string.lower() if char in \"aeiou\"}\n",
    "\n",
    "vowel_count('awesome')"
   ]
  },
  {
   "cell_type": "code",
   "execution_count": 59,
   "id": "f4af109e",
   "metadata": {},
   "outputs": [
    {
     "data": {
      "text/plain": [
       "{'e': 2, 'i': 1}"
      ]
     },
     "execution_count": 59,
     "metadata": {},
     "output_type": "execute_result"
    }
   ],
   "source": [
    "vowel_count('Elie')"
   ]
  },
  {
   "cell_type": "code",
   "execution_count": 60,
   "id": "a08d57c4",
   "metadata": {},
   "outputs": [
    {
     "data": {
      "text/plain": [
       "{'o': 1}"
      ]
     },
     "execution_count": 60,
     "metadata": {},
     "output_type": "execute_result"
    }
   ],
   "source": [
    "vowel_count('Colt')"
   ]
  },
  {
   "cell_type": "markdown",
   "id": "dce0a227",
   "metadata": {},
   "source": [
    "---"
   ]
  },
  {
   "cell_type": "code",
   "execution_count": 103,
   "id": "65654778",
   "metadata": {},
   "outputs": [
    {
     "data": {
      "text/plain": [
       "'This Is Awesome'"
      ]
     },
     "execution_count": 103,
     "metadata": {},
     "output_type": "execute_result"
    }
   ],
   "source": [
    "'''\n",
    "titleize('this is awesome') # \"This Is Awesome\"\n",
    "titleize('oNLy cAPITALIZe fIRSt') # \"ONLy CAPITALIZe FIRSt\"\n",
    "'''\n",
    "\n",
    "def titleize(string):\n",
    "    \n",
    "    a = [val[0].upper()+val[1:] for val in string.split()]\n",
    "    return \" \".join(a)\n",
    "    \n",
    "\n",
    "titleize('this is awesome')"
   ]
  },
  {
   "cell_type": "code",
   "execution_count": 104,
   "id": "4bef61c7",
   "metadata": {},
   "outputs": [
    {
     "data": {
      "text/plain": [
       "'ONLy CAPITALIZe FIRSt'"
      ]
     },
     "execution_count": 104,
     "metadata": {},
     "output_type": "execute_result"
    }
   ],
   "source": [
    "titleize('oNLy cAPITALIZe fIRSt')"
   ]
  },
  {
   "cell_type": "markdown",
   "id": "a4425fbd",
   "metadata": {},
   "source": [
    "---"
   ]
  },
  {
   "cell_type": "code",
   "execution_count": 112,
   "id": "333c1ac2",
   "metadata": {},
   "outputs": [],
   "source": [
    "'''\n",
    "find_factors(10) # [1,2,5,10 ]\n",
    "find_factors(11) # [1,11]\n",
    "find_factors(111) # [1,3,37,111 ]\n",
    "find_factors(321421) # [1,293,1097,321421 ]\n",
    "find_factors(412146) # [1,2,3,6,7,9,14,18,21,42,63,126,3271,6542,9813,19626,22897,29439,45794,58878,68691,137382,206073,412146]\n",
    "'''\n",
    "\n",
    "def find_factors(n):\n",
    "    \n",
    "    divis = [i for i in range(1,n+1) if n % i == 0]\n",
    "    return divis\n"
   ]
  },
  {
   "cell_type": "code",
   "execution_count": 113,
   "id": "4b76efd8",
   "metadata": {},
   "outputs": [
    {
     "data": {
      "text/plain": [
       "[1, 2, 5, 10]"
      ]
     },
     "execution_count": 113,
     "metadata": {},
     "output_type": "execute_result"
    }
   ],
   "source": [
    "find_factors(10) # [1,2,5,10 ]"
   ]
  },
  {
   "cell_type": "code",
   "execution_count": 114,
   "id": "3ec88af7",
   "metadata": {},
   "outputs": [
    {
     "data": {
      "text/plain": [
       "[1, 11]"
      ]
     },
     "execution_count": 114,
     "metadata": {},
     "output_type": "execute_result"
    }
   ],
   "source": [
    "find_factors(11) # [1,11]"
   ]
  },
  {
   "cell_type": "code",
   "execution_count": 115,
   "id": "deae250f",
   "metadata": {},
   "outputs": [
    {
     "data": {
      "text/plain": [
       "[1, 3, 37, 111]"
      ]
     },
     "execution_count": 115,
     "metadata": {},
     "output_type": "execute_result"
    }
   ],
   "source": [
    "find_factors(111) # [1,3,37,111 ]"
   ]
  },
  {
   "cell_type": "code",
   "execution_count": 116,
   "id": "562c4b0f",
   "metadata": {},
   "outputs": [
    {
     "data": {
      "text/plain": [
       "[1, 293, 1097, 321421]"
      ]
     },
     "execution_count": 116,
     "metadata": {},
     "output_type": "execute_result"
    }
   ],
   "source": [
    "find_factors(321421) # [1,293,1097,321421 ]"
   ]
  },
  {
   "cell_type": "markdown",
   "id": "aafe06c4",
   "metadata": {},
   "source": [
    "---"
   ]
  },
  {
   "cell_type": "code",
   "execution_count": 174,
   "id": "ebe94cca",
   "metadata": {},
   "outputs": [],
   "source": [
    "'''\n",
    "includes([1, 2, 3], 1) # True \n",
    "includes([1, 2, 3], 1, 2) # False \n",
    "includes({ 'a': 1, 'b': 2 }, 1) # True \n",
    "includes({ 'a': 1, 'b': 2 }, 'a') # False\n",
    "includes('abcd', 'b') # True\n",
    "includes('abcd', 'e') # False\n",
    "'''\n",
    "\n",
    "def includes(give,search,search_from=0):\n",
    "    \n",
    "    if type(give) == list:\n",
    "        for val in give[search_from:]:\n",
    "            if val == search:\n",
    "                return True\n",
    "            else:\n",
    "                return False\n",
    "    elif type(give) == dict:\n",
    "        for val in give.values():\n",
    "            if val == search:\n",
    "                return True\n",
    "            else:\n",
    "                return False\n",
    "    elif type(give) == str:\n",
    "        if search in give[search_from:]:\n",
    "            return True\n",
    "        else:\n",
    "            return False"
   ]
  },
  {
   "cell_type": "code",
   "execution_count": 175,
   "id": "41e2665c",
   "metadata": {},
   "outputs": [
    {
     "data": {
      "text/plain": [
       "True"
      ]
     },
     "execution_count": 175,
     "metadata": {},
     "output_type": "execute_result"
    }
   ],
   "source": [
    "includes([1, 2, 3], 1)"
   ]
  },
  {
   "cell_type": "code",
   "execution_count": 176,
   "id": "499a57d9",
   "metadata": {},
   "outputs": [
    {
     "data": {
      "text/plain": [
       "False"
      ]
     },
     "execution_count": 176,
     "metadata": {},
     "output_type": "execute_result"
    }
   ],
   "source": [
    "includes([1, 2, 3], 1, 2)"
   ]
  },
  {
   "cell_type": "code",
   "execution_count": 177,
   "id": "af1e198f",
   "metadata": {},
   "outputs": [
    {
     "data": {
      "text/plain": [
       "True"
      ]
     },
     "execution_count": 177,
     "metadata": {},
     "output_type": "execute_result"
    }
   ],
   "source": [
    "includes({ 'a': 1, 'b': 2 }, 1)"
   ]
  },
  {
   "cell_type": "code",
   "execution_count": 178,
   "id": "d39475e6",
   "metadata": {},
   "outputs": [
    {
     "data": {
      "text/plain": [
       "False"
      ]
     },
     "execution_count": 178,
     "metadata": {},
     "output_type": "execute_result"
    }
   ],
   "source": [
    "includes({ 'a': 1, 'b': 2 }, 'a')"
   ]
  },
  {
   "cell_type": "code",
   "execution_count": 179,
   "id": "403c147c",
   "metadata": {},
   "outputs": [
    {
     "data": {
      "text/plain": [
       "True"
      ]
     },
     "execution_count": 179,
     "metadata": {},
     "output_type": "execute_result"
    }
   ],
   "source": [
    "includes('abcd', 'b')"
   ]
  },
  {
   "cell_type": "code",
   "execution_count": 180,
   "id": "eded2ff1",
   "metadata": {},
   "outputs": [
    {
     "data": {
      "text/plain": [
       "False"
      ]
     },
     "execution_count": 180,
     "metadata": {},
     "output_type": "execute_result"
    }
   ],
   "source": [
    "includes('abcd', 'e')"
   ]
  },
  {
   "cell_type": "markdown",
   "id": "e8638105",
   "metadata": {},
   "source": [
    "---"
   ]
  },
  {
   "cell_type": "code",
   "execution_count": 182,
   "id": "e8c77c35",
   "metadata": {},
   "outputs": [],
   "source": [
    "'''\n",
    "repeat('*', 3) # '***' \n",
    "repeat('abc', 2) # 'abcabc' \n",
    "repeat('abc', 0) # ''\n",
    "'''\n",
    "\n",
    "def repeat(n,times):\n",
    "    return n*times"
   ]
  },
  {
   "cell_type": "code",
   "execution_count": 183,
   "id": "2a63f0b6",
   "metadata": {},
   "outputs": [
    {
     "data": {
      "text/plain": [
       "'***'"
      ]
     },
     "execution_count": 183,
     "metadata": {},
     "output_type": "execute_result"
    }
   ],
   "source": [
    "repeat('*', 3)"
   ]
  },
  {
   "cell_type": "code",
   "execution_count": 184,
   "id": "9564c56c",
   "metadata": {},
   "outputs": [
    {
     "data": {
      "text/plain": [
       "'abcabc'"
      ]
     },
     "execution_count": 184,
     "metadata": {},
     "output_type": "execute_result"
    }
   ],
   "source": [
    "repeat('abc', 2)"
   ]
  },
  {
   "cell_type": "code",
   "execution_count": 185,
   "id": "6140e31e",
   "metadata": {},
   "outputs": [
    {
     "data": {
      "text/plain": [
       "''"
      ]
     },
     "execution_count": 185,
     "metadata": {},
     "output_type": "execute_result"
    }
   ],
   "source": [
    "repeat('abc', 0) "
   ]
  },
  {
   "cell_type": "markdown",
   "id": "b8d6f6dc",
   "metadata": {},
   "source": [
    "---"
   ]
  },
  {
   "cell_type": "code",
   "execution_count": 3,
   "id": "a08beeb3",
   "metadata": {},
   "outputs": [],
   "source": [
    "'''\n",
    "truncate(\"Super cool\", 2) # \"Truncation must be at least 3 characters.\"\n",
    "truncate(\"Super cool\", 1) # \"Truncation must be at least 3 characters.\"\n",
    "truncate(\"Super cool\", 0) # \"Truncation must be at least 3 characters.\"\n",
    "truncate(\"Hello World\", 6) # \"Hel...\"\n",
    "truncate(\"Problem solving is the best!\", 10) # \"Problem...\"\n",
    "truncate(\"Another test\", 12) # \"Another t...\"\n",
    "truncate(\"Woah\", 4) # \"W...\"\n",
    "truncate(\"Woah\", 3) # \"...\"\n",
    "truncate(\"Yo\",100) # \"Yo\"\n",
    "truncate(\"Holy guacamole!\", 152) # \"Holy guacamole!\"\n",
    "'''\n",
    "\n",
    "def truncate(n,most):\n",
    "    if most < 3:\n",
    "        return \"Truncation must be at least 3 characters.\"\n",
    "    if most > len(n) + 2:\n",
    "        return n\n",
    "\n",
    "    return n[:most-3] + \"...\""
   ]
  },
  {
   "cell_type": "code",
   "execution_count": 265,
   "id": "a707c660",
   "metadata": {},
   "outputs": [
    {
     "data": {
      "text/plain": [
       "'Truncation must be at least 3 characters.'"
      ]
     },
     "execution_count": 265,
     "metadata": {},
     "output_type": "execute_result"
    }
   ],
   "source": [
    "truncate(\"Super cool\", 2)"
   ]
  },
  {
   "cell_type": "code",
   "execution_count": 266,
   "id": "72df2562",
   "metadata": {},
   "outputs": [
    {
     "data": {
      "text/plain": [
       "'Truncation must be at least 3 characters.'"
      ]
     },
     "execution_count": 266,
     "metadata": {},
     "output_type": "execute_result"
    }
   ],
   "source": [
    "truncate(\"Super cool\", 1)"
   ]
  },
  {
   "cell_type": "code",
   "execution_count": 267,
   "id": "e7091a4c",
   "metadata": {},
   "outputs": [
    {
     "data": {
      "text/plain": [
       "'Truncation must be at least 3 characters.'"
      ]
     },
     "execution_count": 267,
     "metadata": {},
     "output_type": "execute_result"
    }
   ],
   "source": [
    "truncate(\"Super cool\", 0)"
   ]
  },
  {
   "cell_type": "code",
   "execution_count": 268,
   "id": "9bc620e1",
   "metadata": {},
   "outputs": [
    {
     "data": {
      "text/plain": [
       "'Hel...'"
      ]
     },
     "execution_count": 268,
     "metadata": {},
     "output_type": "execute_result"
    }
   ],
   "source": [
    "truncate(\"Hello World\", 6)"
   ]
  },
  {
   "cell_type": "code",
   "execution_count": 269,
   "id": "c9507e32",
   "metadata": {},
   "outputs": [
    {
     "data": {
      "text/plain": [
       "'Problem...'"
      ]
     },
     "execution_count": 269,
     "metadata": {},
     "output_type": "execute_result"
    }
   ],
   "source": [
    "truncate(\"Problem solving is the best!\", 10)"
   ]
  },
  {
   "cell_type": "code",
   "execution_count": 270,
   "id": "c57d0303",
   "metadata": {},
   "outputs": [
    {
     "data": {
      "text/plain": [
       "'Another t...'"
      ]
     },
     "execution_count": 270,
     "metadata": {},
     "output_type": "execute_result"
    }
   ],
   "source": [
    "truncate(\"Another test\", 12)"
   ]
  },
  {
   "cell_type": "code",
   "execution_count": 271,
   "id": "a21d3cb2",
   "metadata": {},
   "outputs": [
    {
     "data": {
      "text/plain": [
       "'W...'"
      ]
     },
     "execution_count": 271,
     "metadata": {},
     "output_type": "execute_result"
    }
   ],
   "source": [
    "truncate(\"Woah\", 4)"
   ]
  },
  {
   "cell_type": "code",
   "execution_count": 272,
   "id": "4eb33ce6",
   "metadata": {},
   "outputs": [
    {
     "data": {
      "text/plain": [
       "'...'"
      ]
     },
     "execution_count": 272,
     "metadata": {},
     "output_type": "execute_result"
    }
   ],
   "source": [
    "truncate(\"Woah\", 3)"
   ]
  },
  {
   "cell_type": "code",
   "execution_count": 273,
   "id": "730ec030",
   "metadata": {},
   "outputs": [
    {
     "data": {
      "text/plain": [
       "'Yo'"
      ]
     },
     "execution_count": 273,
     "metadata": {},
     "output_type": "execute_result"
    }
   ],
   "source": [
    "truncate(\"Yo\",100)"
   ]
  },
  {
   "cell_type": "code",
   "execution_count": 4,
   "id": "e22cde47",
   "metadata": {},
   "outputs": [
    {
     "data": {
      "text/plain": [
       "'Holy guacamole!'"
      ]
     },
     "execution_count": 4,
     "metadata": {},
     "output_type": "execute_result"
    }
   ],
   "source": [
    "truncate(\"Holy guacamole!\", 152)"
   ]
  },
  {
   "cell_type": "markdown",
   "id": "b5df6e66",
   "metadata": {},
   "source": [
    "---"
   ]
  },
  {
   "cell_type": "code",
   "execution_count": 335,
   "id": "2d77ab5b",
   "metadata": {},
   "outputs": [],
   "source": [
    "'''\n",
    "two_list_dictionary(['a', 'b', 'c', 'd'], [1, 2, 3]) # {'a': 1, 'b': 2, 'c': 3, 'd': None}\n",
    "two_list_dictionary(['a', 'b', 'c']  , [1, 2, 3, 4]) # {'a': 1, 'b': 2, 'c': 3}\n",
    "two_list_dictionary(['x', 'y', 'z']  , [1,2]) # {'x': 1, 'y': 2, 'z': None}\n",
    "'''\n",
    "\n",
    "def two_list_dictionary(l1,l2):\n",
    "    \n",
    "    dct = {}\n",
    "    for i in l1:\n",
    "        dct[i] = None\n",
    "    dct.update(dict(zip(dct,l2)))\n",
    "    \n",
    "    return dct"
   ]
  },
  {
   "cell_type": "code",
   "execution_count": 332,
   "id": "33ebb919",
   "metadata": {},
   "outputs": [
    {
     "data": {
      "text/plain": [
       "{'a': 1, 'b': 2, 'c': 3, 'd': None}"
      ]
     },
     "execution_count": 332,
     "metadata": {},
     "output_type": "execute_result"
    }
   ],
   "source": [
    "two_list_dictionary(['a', 'b', 'c', 'd'], [1, 2, 3])"
   ]
  },
  {
   "cell_type": "code",
   "execution_count": 333,
   "id": "71b5a5e5",
   "metadata": {},
   "outputs": [
    {
     "data": {
      "text/plain": [
       "{'a': 1, 'b': 2, 'c': 3}"
      ]
     },
     "execution_count": 333,
     "metadata": {},
     "output_type": "execute_result"
    }
   ],
   "source": [
    "two_list_dictionary(['a', 'b', 'c']  , [1, 2, 3, 4])"
   ]
  },
  {
   "cell_type": "code",
   "execution_count": 334,
   "id": "09bc0304",
   "metadata": {},
   "outputs": [
    {
     "data": {
      "text/plain": [
       "{'x': 1, 'y': 2, 'z': None}"
      ]
     },
     "execution_count": 334,
     "metadata": {},
     "output_type": "execute_result"
    }
   ],
   "source": [
    "two_list_dictionary(['x', 'y', 'z']  , [1,2])"
   ]
  }
 ],
 "metadata": {
  "kernelspec": {
   "display_name": "Python 3",
   "language": "python",
   "name": "python3"
  },
  "language_info": {
   "codemirror_mode": {
    "name": "ipython",
    "version": 3
   },
   "file_extension": ".py",
   "mimetype": "text/x-python",
   "name": "python",
   "nbconvert_exporter": "python",
   "pygments_lexer": "ipython3",
   "version": "3.8.11"
  }
 },
 "nbformat": 4,
 "nbformat_minor": 5
}
